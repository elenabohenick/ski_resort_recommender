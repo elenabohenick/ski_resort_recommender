{
 "cells": [
  {
   "cell_type": "code",
   "execution_count": 32,
   "metadata": {},
   "outputs": [],
   "source": [
    "import pandas as pd\n",
    "import numpy as np\n",
    "import json\n",
    "import re\n",
    "from bs4 import BeautifulSoup\n",
    "from selenium import webdriver\n",
    "from selenium.webdriver.common.keys import Keys\n",
    "from selenium.webdriver.support.ui import WebDriverWait \n",
    "from selenium.webdriver.chrome.options import Options\n",
    "from time import sleep\n",
    "import os\n",
    "import glob\n",
    "import json\n",
    "from pymongo import MongoClient"
   ]
  },
  {
   "cell_type": "code",
   "execution_count": 33,
   "metadata": {},
   "outputs": [],
   "source": [
    "client = MongoClient()\n",
    "# creating database\n",
    "db = client.reviews\n",
    "# create collection(table)\n",
    "ski3 = db.ski_reviews3"
   ]
  },
  {
   "cell_type": "code",
   "execution_count": 34,
   "metadata": {},
   "outputs": [],
   "source": [
    "def get_reviews(url):\n",
    "    driver = webdriver.Chrome(chromedriver)\n",
    "    driver.get(url)\n",
    "    # find More button\n",
    "    button_location = \"//span[@class='taLnk ulBlueLinks'][contains(text(),'More')]\"\n",
    "    button = driver.find_element_by_xpath(button_location)\n",
    "    # click the butttons\n",
    "    button.click()\n",
    "    sleep(0.5)\n",
    "    \n",
    "    # resort name\n",
    "    resort_name = driver.find_element_by_xpath(\"//h1[@id='HEADING'][@class='heading_title']\")\n",
    "    \n",
    "    # grab reviews \n",
    "    review_box = driver.find_elements_by_xpath(\"//div[@id='taplc_location_reviews_list_responsive_detail_0']//div[@class='wrap']\")       \n",
    "    for r in review_box:\n",
    "        dic = {}\n",
    "        rev_name = r.find_element_by_class_name('quote')\n",
    "        rev_body = r.find_element_by_class_name('partial_entry')\n",
    "        dic['page_url'] = url\n",
    "        dic['resort_name'] = resort_name.text\n",
    "        dic['review_title'] = rev_name.text  \n",
    "        dic['review'] = rev_body.text\n",
    "        ski3.insert_one(dic)\n",
    "    driver.quit()"
   ]
  },
  {
   "cell_type": "code",
   "execution_count": 35,
   "metadata": {},
   "outputs": [],
   "source": [
    "# driver.quit()"
   ]
  },
  {
   "cell_type": "code",
   "execution_count": 36,
   "metadata": {},
   "outputs": [],
   "source": [
    "chromedriver = \"/Applications/chromedriver\" # path to the chromedriver executable\n",
    "os.environ[\"webdriver.chrome.driver\"] = chromedriver"
   ]
  },
  {
   "cell_type": "code",
   "execution_count": 40,
   "metadata": {},
   "outputs": [
    {
     "data": {
      "text/plain": [
       "9936"
      ]
     },
     "execution_count": 40,
     "metadata": {},
     "output_type": "execute_result"
    }
   ],
   "source": [
    "list_of_urls = pd.read_csv('tripadvisor_reviews/tripadvisor_eng_review_urls.csv')\n",
    "list_of_urls = list(list_of_urls['page_url'])\n",
    "len(list_of_urls)"
   ]
  },
  {
   "cell_type": "code",
   "execution_count": 41,
   "metadata": {
    "scrolled": false
   },
   "outputs": [],
   "source": [
    "# run the function\n",
    "for t in list_of_urls:\n",
    "    try:\n",
    "        get_reviews(t)\n",
    "        print(list_of_urls.index(t))\n",
    "    except:\n",
    "        pass"
   ]
  }
 ],
 "metadata": {
  "kernelspec": {
   "display_name": "Python 3",
   "language": "python",
   "name": "python3"
  },
  "language_info": {
   "codemirror_mode": {
    "name": "ipython",
    "version": 3
   },
   "file_extension": ".py",
   "mimetype": "text/x-python",
   "name": "python",
   "nbconvert_exporter": "python",
   "pygments_lexer": "ipython3",
   "version": "3.6.4"
  }
 },
 "nbformat": 4,
 "nbformat_minor": 2
}
