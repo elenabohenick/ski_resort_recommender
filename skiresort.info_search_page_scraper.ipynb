{
 "cells": [
  {
   "cell_type": "code",
   "execution_count": 1,
   "metadata": {},
   "outputs": [],
   "source": [
    "import requests\n",
    "from bs4 import BeautifulSoup\n",
    "import pandas as pd\n",
    "from time import sleep"
   ]
  },
  {
   "cell_type": "code",
   "execution_count": 2,
   "metadata": {},
   "outputs": [],
   "source": [
    "def search_page(page_num):\n",
    "    url = f\"http://www.skiresort.info/ski-resorts/page/{page_num}/\"\n",
    "    headers = {'User-Agent': 'Mozilla/5.0 (Macintosh; Intel Mac OS X 10_10_1) AppleWebKit/537.36 (KHTML, like Gecko) Chrome/39.0.2171.95 Safari/537.36'}\n",
    "    response = requests.get(url, headers=headers)\n",
    "    search_page = response.text\n",
    "    soup = BeautifulSoup(search_page,\"html5lib\")\n",
    "    return(soup)"
   ]
  },
  {
   "cell_type": "code",
   "execution_count": 3,
   "metadata": {},
   "outputs": [],
   "source": [
    "def resort_info(page_count):\n",
    "    all_resorts = []\n",
    "    for i in range(1,page_count+1):        \n",
    "        resorts = []\n",
    "        boxes = search_page(i).find_all(class_='panel-body middle-padding')\n",
    "        \n",
    "        for box in boxes:\n",
    "            dic = {}\n",
    "            # get region and country\n",
    "            reg_country = box.find_all(class_='sub-breadcrumb')[0]\n",
    "            dic['region'] = reg_country.find_all('a')[0].text\n",
    "            if len(reg_country.find_all('a'))>1:\n",
    "                dic['country'] = reg_country.find_all('a')[1].text\n",
    "            else:\n",
    "                dic['country'] = ''\n",
    "            # get url\n",
    "            url_field = box.find(\"div\", {\"class\": \"h3\"})\n",
    "            dic['resort_url'] = url_field.find('a')['href']\n",
    "            # grab the table\n",
    "            table = box.find(class_='info-table')\n",
    "            if len(table.text) < 10:\n",
    "                dic['resort_stats'] = ''\n",
    "            else:\n",
    "                table = pd.read_html(str(table))[0]\n",
    "                dic['resort_stats'] = list(table.iloc[:,1])\n",
    "            resorts.append(dic)\n",
    "        all_resorts.extend(resorts)\n",
    "    df = pd.DataFrame.from_dict(all_resorts)\n",
    "    df.to_csv('skiinfo_all_resorts.csv')"
   ]
  },
  {
   "cell_type": "code",
   "execution_count": 4,
   "metadata": {},
   "outputs": [],
   "source": [
    "resort_info(29)"
   ]
  },
  {
   "cell_type": "code",
   "execution_count": null,
   "metadata": {},
   "outputs": [],
   "source": []
  },
  {
   "cell_type": "code",
   "execution_count": null,
   "metadata": {},
   "outputs": [],
   "source": []
  },
  {
   "cell_type": "code",
   "execution_count": null,
   "metadata": {},
   "outputs": [],
   "source": []
  },
  {
   "cell_type": "code",
   "execution_count": null,
   "metadata": {},
   "outputs": [],
   "source": []
  },
  {
   "cell_type": "code",
   "execution_count": null,
   "metadata": {},
   "outputs": [],
   "source": []
  },
  {
   "cell_type": "code",
   "execution_count": null,
   "metadata": {},
   "outputs": [],
   "source": []
  },
  {
   "cell_type": "code",
   "execution_count": null,
   "metadata": {},
   "outputs": [],
   "source": [
    "col-sm-12"
   ]
  },
  {
   "cell_type": "code",
   "execution_count": 4,
   "metadata": {},
   "outputs": [],
   "source": [
    "boxes = search_page(1).find_all(class_='panel-body middle-padding')"
   ]
  },
  {
   "cell_type": "code",
   "execution_count": 5,
   "metadata": {},
   "outputs": [],
   "source": [
    "box = boxes[0]"
   ]
  },
  {
   "cell_type": "code",
   "execution_count": 15,
   "metadata": {},
   "outputs": [
    {
     "data": {
      "text/plain": [
       "<div class=\"col-sm-12\"> <div class=\"h3\"> <a class=\"h3\" href=\"http://www.skiresort.info/ski-resort/ski-juwel-alpbachtal-wildschoenau/\">Ski Juwel Alpbachtal Wildschönau </a> </div> <div class=\"sub-breadcrumb\"> <div class=\"sub-breadcrumb\"><a href=\"http://www.skiresort.info/ski-resorts/europe/\">Europe</a> <a href=\"http://www.skiresort.info/ski-resorts/austria/\">Austria</a> <a href=\"http://www.skiresort.info/ski-resorts/tyrol-tirol/\">Tyrol (Tirol)</a> <a href=\"http://www.skiresort.info/ski-resorts/tiroler-unterland/\">Tiroler Unterland</a> <a href=\"http://www.skiresort.info/ski-resorts/kufstein/\">Kufstein</a> <a href=\"http://www.skiresort.info/ski-resorts/wildschoenau/\">Wildschönau</a></div><div class=\"sub-breadcrumb\"><a href=\"http://www.skiresort.info/ski-resorts/europe/\">Europe</a> <a href=\"http://www.skiresort.info/ski-resorts/austria/\">Austria</a> <a href=\"http://www.skiresort.info/ski-resorts/tyrol-tirol/\">Tyrol (Tirol)</a> <a href=\"http://www.skiresort.info/ski-resorts/tiroler-unterland/\">Tiroler Unterland</a> <a href=\"http://www.skiresort.info/ski-resorts/kufstein/\">Kufstein</a> <a href=\"http://www.skiresort.info/ski-resorts/alpbachtal-seenland/\">Alpbachtal Seenland</a></div> </div> </div>"
      ]
     },
     "execution_count": 15,
     "metadata": {},
     "output_type": "execute_result"
    }
   ],
   "source": [
    "level2"
   ]
  },
  {
   "cell_type": "code",
   "execution_count": 13,
   "metadata": {},
   "outputs": [],
   "source": [
    "level2 = box.find_all(class_='col-sm-12')[0]"
   ]
  },
  {
   "cell_type": "code",
   "execution_count": 14,
   "metadata": {},
   "outputs": [
    {
     "data": {
      "text/plain": [
       "[<div class=\"sub-breadcrumb\"> <div class=\"sub-breadcrumb\"><a href=\"http://www.skiresort.info/ski-resorts/europe/\">Europe</a> <a href=\"http://www.skiresort.info/ski-resorts/austria/\">Austria</a> <a href=\"http://www.skiresort.info/ski-resorts/tyrol-tirol/\">Tyrol (Tirol)</a> <a href=\"http://www.skiresort.info/ski-resorts/tiroler-unterland/\">Tiroler Unterland</a> <a href=\"http://www.skiresort.info/ski-resorts/kufstein/\">Kufstein</a> <a href=\"http://www.skiresort.info/ski-resorts/wildschoenau/\">Wildschönau</a></div><div class=\"sub-breadcrumb\"><a href=\"http://www.skiresort.info/ski-resorts/europe/\">Europe</a> <a href=\"http://www.skiresort.info/ski-resorts/austria/\">Austria</a> <a href=\"http://www.skiresort.info/ski-resorts/tyrol-tirol/\">Tyrol (Tirol)</a> <a href=\"http://www.skiresort.info/ski-resorts/tiroler-unterland/\">Tiroler Unterland</a> <a href=\"http://www.skiresort.info/ski-resorts/kufstein/\">Kufstein</a> <a href=\"http://www.skiresort.info/ski-resorts/alpbachtal-seenland/\">Alpbachtal Seenland</a></div> </div>,\n",
       " <div class=\"sub-breadcrumb\"><a href=\"http://www.skiresort.info/ski-resorts/europe/\">Europe</a> <a href=\"http://www.skiresort.info/ski-resorts/austria/\">Austria</a> <a href=\"http://www.skiresort.info/ski-resorts/tyrol-tirol/\">Tyrol (Tirol)</a> <a href=\"http://www.skiresort.info/ski-resorts/tiroler-unterland/\">Tiroler Unterland</a> <a href=\"http://www.skiresort.info/ski-resorts/kufstein/\">Kufstein</a> <a href=\"http://www.skiresort.info/ski-resorts/wildschoenau/\">Wildschönau</a></div>,\n",
       " <div class=\"sub-breadcrumb\"><a href=\"http://www.skiresort.info/ski-resorts/europe/\">Europe</a> <a href=\"http://www.skiresort.info/ski-resorts/austria/\">Austria</a> <a href=\"http://www.skiresort.info/ski-resorts/tyrol-tirol/\">Tyrol (Tirol)</a> <a href=\"http://www.skiresort.info/ski-resorts/tiroler-unterland/\">Tiroler Unterland</a> <a href=\"http://www.skiresort.info/ski-resorts/kufstein/\">Kufstein</a> <a href=\"http://www.skiresort.info/ski-resorts/alpbachtal-seenland/\">Alpbachtal Seenland</a></div>]"
      ]
     },
     "execution_count": 14,
     "metadata": {},
     "output_type": "execute_result"
    }
   ],
   "source": [
    "level2.find_all(class_='sub-breadcrumb')"
   ]
  },
  {
   "cell_type": "code",
   "execution_count": null,
   "metadata": {},
   "outputs": [],
   "source": [
    "\n",
    "\n",
    "for box in boxes:\n",
    "    dic = {}\n",
    "    # get region and country\n",
    "    reg_country = box.find_all(class_='sub-breadcrumb')[0]\n",
    "    dic['region'] = reg_country.find_all('a')[0].text"
   ]
  },
  {
   "cell_type": "code",
   "execution_count": null,
   "metadata": {},
   "outputs": [],
   "source": [
    "# grab the table\n",
    "table = box.find(class_='info-table')\n",
    "table = pd.read_html(str(table))[0]\n",
    "if (len(table)==5) & (table.iloc[0,0]=='Evaluation'):\n",
    "    dic['vertical_drop'] = table.iloc[1,1].split(\" \")[0]\n",
    "    dic['elevation'] = table.iloc[1,1].split(\" \")[-2]\n",
    "    dic['longest_trail'] = table.iloc[2,1].split(\" \")[0]\n",
    "    dic['ski_lifts'] = table.iloc[3,1].split(\" \")[0]\n",
    "elif len(table)==4:\n",
    "    dic['vertical_drop'] = table.iloc[0,1].split(\" \")[0]\n",
    "    dic['elevation'] = table.iloc[0,1].split(\" \")[-2]\n",
    "    dic['longest_trail'] = table.iloc[1,1].split(\" \")[0]\n",
    "    dic['ski_lifts'] = table.iloc[2,1].split(\" \")[0]\n",
    "else:\n",
    "    pass"
   ]
  }
 ],
 "metadata": {
  "kernelspec": {
   "display_name": "Python 3",
   "language": "python",
   "name": "python3"
  },
  "language_info": {
   "codemirror_mode": {
    "name": "ipython",
    "version": 3
   },
   "file_extension": ".py",
   "mimetype": "text/x-python",
   "name": "python",
   "nbconvert_exporter": "python",
   "pygments_lexer": "ipython3",
   "version": "3.6.4"
  }
 },
 "nbformat": 4,
 "nbformat_minor": 2
}
