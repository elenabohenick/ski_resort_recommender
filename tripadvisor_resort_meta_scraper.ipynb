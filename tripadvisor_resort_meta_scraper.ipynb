{
 "cells": [
  {
   "cell_type": "code",
   "execution_count": 1,
   "metadata": {},
   "outputs": [],
   "source": [
    "import pandas as pd\n",
    "import numpy as np\n",
    "import json\n",
    "import re\n",
    "from selenium import webdriver\n",
    "from selenium.webdriver.common.keys import Keys\n",
    "from selenium.webdriver.support.ui import WebDriverWait \n",
    "from selenium.webdriver.chrome.options import Options\n",
    "import time\n",
    "import os\n",
    "import glob\n",
    "from collections import defaultdict"
   ]
  },
  {
   "cell_type": "code",
   "execution_count": 5,
   "metadata": {},
   "outputs": [],
   "source": [
    "import requests\n",
    "from bs4 import BeautifulSoup\n",
    "import pandas as pd\n",
    "import numpy as np\n",
    "from time import sleep"
   ]
  },
  {
   "cell_type": "code",
   "execution_count": 151,
   "metadata": {},
   "outputs": [],
   "source": [
    "chromedriver = \"/Applications/chromedriver\" # path to the chromedriver executable\n",
    "os.environ[\"webdriver.chrome.driver\"] = chromedriver\n",
    "\n",
    "\n",
    "chrome_options = Options()\n",
    "# turn off image loading\n",
    "prefs = {\"profile.managed_default_content_settings.images\":2}\n",
    "chrome_options.add_experimental_option(\"prefs\",prefs)\n",
    "\n",
    "driver = webdriver.Chrome(chromedriver, chrome_options=chrome_options)"
   ]
  },
  {
   "cell_type": "code",
   "execution_count": 154,
   "metadata": {},
   "outputs": [],
   "source": [
    "def button_click(n):\n",
    "    all_resorts = []\n",
    "    url = \"https://www.tripadvisor.com/Search?q=ski+resort&queryParsed=true&searchSessionId#&ssrc=A&o=0\"\n",
    "    driver.get(url)\n",
    "    button = driver.find_element_by_xpath('//a[@href=\"javascript:void(0);\"][contains(text(),\"Next\")]')\n",
    "    button.click()\n",
    "    for i in range(1,n):\n",
    "        button = driver.find_element_by_xpath('//a[@href=\"javascript:void(0);\"][contains(text(),\"Next\")]')\n",
    "        button.click()\n",
    "        time.sleep(5)\n",
    "        resorts = []\n",
    "        url_location = \"//div[contains(@class,'result_wrap')]\"\n",
    "        url_results = driver.find_elements_by_xpath(location)\n",
    "        for url_result in url_results:\n",
    "            dic = {}\n",
    "            url_element = str(url_result.get_attribute('onclick'))\n",
    "            if \"Attraction_\" in url_element:\n",
    "                full_url = 'https://www.tripadvisor.com' + re.match(r\".+(/Attraction_.+html).+\",url_element).group(1)\n",
    "                dic['url'] = full_url\n",
    "                dic['resort_meta'] = url_result.text\n",
    "                resorts.append(dic)\n",
    "        df = pd.DataFrame.from_dict(resorts)\n",
    "        df.to_csv(f'resorts_{i}.csv')\n",
    "        print(i)"
   ]
  },
  {
   "cell_type": "code",
   "execution_count": 159,
   "metadata": {},
   "outputs": [],
   "source": [
    "nums = np.arange(0,34)\n",
    "dfs = []\n",
    "for i in nums:\n",
    "    file_name = f\"resorts_{i}.csv\"\n",
    "    dfs.append(\n",
    "        pd.read_csv(file_name)\n",
    "    )"
   ]
  },
  {
   "cell_type": "code",
   "execution_count": 160,
   "metadata": {},
   "outputs": [
    {
     "name": "stdout",
     "output_type": "stream",
     "text": [
      "<class 'pandas.core.frame.DataFrame'>\n",
      "RangeIndex: 1016 entries, 0 to 1015\n",
      "Data columns (total 4 columns):\n",
      "index          1016 non-null int64\n",
      "Unnamed: 0     1016 non-null int64\n",
      "resort_meta    1016 non-null object\n",
      "url            1016 non-null object\n",
      "dtypes: int64(2), object(2)\n",
      "memory usage: 31.8+ KB\n"
     ]
    }
   ],
   "source": [
    "df = pd.concat(dfs).reset_index()\n",
    "df.info()"
   ]
  },
  {
   "cell_type": "code",
   "execution_count": 161,
   "metadata": {},
   "outputs": [],
   "source": [
    "df.to_csv('all_resorts.csv')"
   ]
  }
 ],
 "metadata": {
  "kernelspec": {
   "display_name": "Python 3",
   "language": "python",
   "name": "python3"
  },
  "language_info": {
   "codemirror_mode": {
    "name": "ipython",
    "version": 3
   },
   "file_extension": ".py",
   "mimetype": "text/x-python",
   "name": "python",
   "nbconvert_exporter": "python",
   "pygments_lexer": "ipython3",
   "version": "3.6.4"
  }
 },
 "nbformat": 4,
 "nbformat_minor": 2
}
