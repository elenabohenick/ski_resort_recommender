{
 "cells": [
  {
   "cell_type": "code",
   "execution_count": 36,
   "metadata": {},
   "outputs": [],
   "source": [
    "import requests\n",
    "from bs4 import BeautifulSoup\n",
    "import pandas as pd\n",
    "from time import sleep"
   ]
  },
  {
   "cell_type": "code",
   "execution_count": 38,
   "metadata": {},
   "outputs": [],
   "source": [
    "url = \"https://www.worldsnowboardguide.com/resorts/search/\"\n",
    "headers = {'User-Agent': 'Mozilla/5.0 (Macintosh; Intel Mac OS X 10_10_1) AppleWebKit/537.36 (KHTML, like Gecko) Chrome/39.0.2171.95 Safari/537.36'}\n",
    "response = requests.get(url, headers=headers)\n",
    "search_page = response.text\n",
    "soup = BeautifulSoup(search_page,\"html5lib\")"
   ]
  },
  {
   "cell_type": "code",
   "execution_count": 47,
   "metadata": {},
   "outputs": [],
   "source": [
    "countries = soup.find_all(id='countryid')[0]\n",
    "countries = soup.find_all('option')\n",
    "list_countries = []\n",
    "for c in countries:\n",
    "    if \"----\" in c.text:\n",
    "        country = c.text.replace('---- ','')\n",
    "        country = country.replace(' ','').lower()\n",
    "        list_countries.append(country)"
   ]
  },
  {
   "cell_type": "code",
   "execution_count": 48,
   "metadata": {},
   "outputs": [],
   "source": [
    "# remove Afganistan since it was not being scraped succesfully \n",
    "list_countries.remove('afganistan')"
   ]
  },
  {
   "cell_type": "code",
   "execution_count": 41,
   "metadata": {},
   "outputs": [],
   "source": [
    "def resort_meta(country_name):\n",
    "    url = f\"https://www.worldsnowboardguide.com/resorts/{country_name}/\"\n",
    "    headers = {'User-Agent': 'Mozilla/5.0 (Macintosh; Intel Mac OS X 10_10_1) AppleWebKit/537.36 (KHTML, like Gecko) Chrome/39.0.2171.95 Safari/537.36'}\n",
    "    response = requests.get(url, headers=headers)\n",
    "    search_page = response.text\n",
    "    soup = BeautifulSoup(search_page,\"html5lib\")\n",
    "    \n",
    "    resorts_box = soup.find_all(id='simplesearch')[0]\n",
    "    resort_names = resorts_box.find_all(class_='description-text')\n",
    "    resort_links = resorts_box.find_all('a')\n",
    "    \n",
    "    resorts = []\n",
    "    for i in resort_names:\n",
    "        idx = resort_names.index(i)\n",
    "        dic = {}\n",
    "        dic['resort_name'] = i.find_all('h3')[0].text\n",
    "        dic['resort_country'] = i.find_all('p')[0].text\n",
    "        dic['resort_url'] = \"https://www.worldsnowboardguide.com\"+resort_links[idx].get('href')\n",
    "        resorts.append(dic)\n",
    "\n",
    "    return(resorts)"
   ]
  },
  {
   "cell_type": "code",
   "execution_count": 46,
   "metadata": {},
   "outputs": [
    {
     "name": "stdout",
     "output_type": "stream",
     "text": [
      "morroco\n",
      "southafrica\n",
      "iceland\n",
      "china\n",
      "india\n",
      "japan\n",
      "kazakhstan\n",
      "northkorea\n",
      "pakistan\n",
      "southkorea\n",
      "australia\n",
      "newzealand\n",
      "bulgaria\n",
      "czechrepublic\n",
      "estonia\n",
      "georgia\n",
      "hungary\n",
      "kosovo\n",
      "kyrgyzstan\n",
      "latvia\n",
      "macedonia\n",
      "poland\n",
      "romania\n",
      "russia\n",
      "serbia\n",
      "slovakia\n",
      "slovenia\n",
      "ukraine\n",
      "iran\n",
      "iraq\n",
      "israel\n",
      "lebanon\n",
      "turkey\n",
      "unitedarabemirates\n",
      "canada\n",
      "usa\n",
      "finland\n",
      "norway\n",
      "sweden\n",
      "argentina\n",
      "bolivia\n",
      "chile\n",
      "andorra\n",
      "austria\n",
      "belgium\n",
      "cyprus\n",
      "france\n",
      "germany\n",
      "greece\n",
      "italy\n",
      "liechtenstein\n",
      "netherlands\n",
      "portugal\n",
      "spain\n",
      "switzerland\n",
      "unitedkingdom\n"
     ]
    }
   ],
   "source": [
    "all_resorts = []\n",
    "for c in list_countries:\n",
    "    temp_list = resort_meta(c)\n",
    "    all_resorts.extend(temp_list)\n",
    "    print(c)"
   ]
  },
  {
   "cell_type": "code",
   "execution_count": 51,
   "metadata": {},
   "outputs": [],
   "source": [
    "df = pd.DataFrame.from_dict(all_resorts)"
   ]
  },
  {
   "cell_type": "code",
   "execution_count": 52,
   "metadata": {},
   "outputs": [],
   "source": [
    "df.to_csv('worldsnowboardguide_meta.csv')"
   ]
  }
 ],
 "metadata": {
  "kernelspec": {
   "display_name": "Python 3",
   "language": "python",
   "name": "python3"
  },
  "language_info": {
   "codemirror_mode": {
    "name": "ipython",
    "version": 3
   },
   "file_extension": ".py",
   "mimetype": "text/x-python",
   "name": "python",
   "nbconvert_exporter": "python",
   "pygments_lexer": "ipython3",
   "version": "3.6.4"
  }
 },
 "nbformat": 4,
 "nbformat_minor": 2
}
