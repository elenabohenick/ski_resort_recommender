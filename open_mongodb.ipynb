{
 "cells": [
  {
   "cell_type": "code",
   "execution_count": 1,
   "metadata": {},
   "outputs": [],
   "source": [
    "from pymongo import MongoClient\n",
    "import pandas as pd"
   ]
  },
  {
   "cell_type": "code",
   "execution_count": 2,
   "metadata": {},
   "outputs": [],
   "source": [
    "client = MongoClient()\n",
    "# creating database\n",
    "db = client.reviews\n",
    "# create collection(table)\n",
    "ski3 = db.ski_reviews3"
   ]
  },
  {
   "cell_type": "code",
   "execution_count": 3,
   "metadata": {
    "scrolled": true
   },
   "outputs": [
    {
     "data": {
      "text/plain": [
       "96620"
      ]
     },
     "execution_count": 3,
     "metadata": {},
     "output_type": "execute_result"
    }
   ],
   "source": [
    "t=list(ski3.find())\n",
    "len(t)"
   ]
  },
  {
   "cell_type": "code",
   "execution_count": 4,
   "metadata": {},
   "outputs": [],
   "source": [
    "df=pd.DataFrame(t)"
   ]
  },
  {
   "cell_type": "code",
   "execution_count": 5,
   "metadata": {},
   "outputs": [
    {
     "data": {
      "text/html": [
       "<div>\n",
       "<style scoped>\n",
       "    .dataframe tbody tr th:only-of-type {\n",
       "        vertical-align: middle;\n",
       "    }\n",
       "\n",
       "    .dataframe tbody tr th {\n",
       "        vertical-align: top;\n",
       "    }\n",
       "\n",
       "    .dataframe thead th {\n",
       "        text-align: right;\n",
       "    }\n",
       "</style>\n",
       "<table border=\"1\" class=\"dataframe\">\n",
       "  <thead>\n",
       "    <tr style=\"text-align: right;\">\n",
       "      <th></th>\n",
       "      <th>_id</th>\n",
       "      <th>page_url</th>\n",
       "      <th>resort_name</th>\n",
       "      <th>review</th>\n",
       "      <th>review_title</th>\n",
       "    </tr>\n",
       "  </thead>\n",
       "  <tbody>\n",
       "    <tr>\n",
       "      <th>0</th>\n",
       "      <td>5b22bbca6283995219eb0781</td>\n",
       "      <td>https://www.tripadvisor.com/Attraction_Review-...</td>\n",
       "      <td>Plose</td>\n",
       "      <td>Love the hiking trails to the highest points. ...</td>\n",
       "      <td>Hiking, Food, Fun</td>\n",
       "    </tr>\n",
       "    <tr>\n",
       "      <th>1</th>\n",
       "      <td>5b22bbca6283995219eb0782</td>\n",
       "      <td>https://www.tripadvisor.com/Attraction_Review-...</td>\n",
       "      <td>Plose</td>\n",
       "      <td>A perfect place for enjoying the fantastic Dol...</td>\n",
       "      <td>Fantastic</td>\n",
       "    </tr>\n",
       "    <tr>\n",
       "      <th>2</th>\n",
       "      <td>5b22bbca6283995219eb0783</td>\n",
       "      <td>https://www.tripadvisor.com/Attraction_Review-...</td>\n",
       "      <td>Plose</td>\n",
       "      <td>Great place to view the Dolomites, take the ca...</td>\n",
       "      <td>Very nice view of the Dolomites!</td>\n",
       "    </tr>\n",
       "    <tr>\n",
       "      <th>3</th>\n",
       "      <td>5b22bbca6283995219eb0784</td>\n",
       "      <td>https://www.tripadvisor.com/Attraction_Review-...</td>\n",
       "      <td>Plose</td>\n",
       "      <td>As any other mountain in the Dolomites, the Pl...</td>\n",
       "      <td>Beautiful view</td>\n",
       "    </tr>\n",
       "    <tr>\n",
       "      <th>4</th>\n",
       "      <td>5b22bbca6283995219eb0785</td>\n",
       "      <td>https://www.tripadvisor.com/Attraction_Review-...</td>\n",
       "      <td>Plose</td>\n",
       "      <td>An interesting, medium size ski resort at the ...</td>\n",
       "      <td>Enjoy long ski tracks and breathtaking views</td>\n",
       "    </tr>\n",
       "  </tbody>\n",
       "</table>\n",
       "</div>"
      ],
      "text/plain": [
       "                        _id  \\\n",
       "0  5b22bbca6283995219eb0781   \n",
       "1  5b22bbca6283995219eb0782   \n",
       "2  5b22bbca6283995219eb0783   \n",
       "3  5b22bbca6283995219eb0784   \n",
       "4  5b22bbca6283995219eb0785   \n",
       "\n",
       "                                            page_url resort_name  \\\n",
       "0  https://www.tripadvisor.com/Attraction_Review-...       Plose   \n",
       "1  https://www.tripadvisor.com/Attraction_Review-...       Plose   \n",
       "2  https://www.tripadvisor.com/Attraction_Review-...       Plose   \n",
       "3  https://www.tripadvisor.com/Attraction_Review-...       Plose   \n",
       "4  https://www.tripadvisor.com/Attraction_Review-...       Plose   \n",
       "\n",
       "                                              review  \\\n",
       "0  Love the hiking trails to the highest points. ...   \n",
       "1  A perfect place for enjoying the fantastic Dol...   \n",
       "2  Great place to view the Dolomites, take the ca...   \n",
       "3  As any other mountain in the Dolomites, the Pl...   \n",
       "4  An interesting, medium size ski resort at the ...   \n",
       "\n",
       "                                   review_title  \n",
       "0                             Hiking, Food, Fun  \n",
       "1                                     Fantastic  \n",
       "2              Very nice view of the Dolomites!  \n",
       "3                                Beautiful view  \n",
       "4  Enjoy long ski tracks and breathtaking views  "
      ]
     },
     "execution_count": 5,
     "metadata": {},
     "output_type": "execute_result"
    }
   ],
   "source": [
    "df.head()"
   ]
  },
  {
   "cell_type": "code",
   "execution_count": 6,
   "metadata": {},
   "outputs": [
    {
     "data": {
      "text/html": [
       "<div>\n",
       "<style scoped>\n",
       "    .dataframe tbody tr th:only-of-type {\n",
       "        vertical-align: middle;\n",
       "    }\n",
       "\n",
       "    .dataframe tbody tr th {\n",
       "        vertical-align: top;\n",
       "    }\n",
       "\n",
       "    .dataframe thead th {\n",
       "        text-align: right;\n",
       "    }\n",
       "</style>\n",
       "<table border=\"1\" class=\"dataframe\">\n",
       "  <thead>\n",
       "    <tr style=\"text-align: right;\">\n",
       "      <th></th>\n",
       "      <th>_id</th>\n",
       "      <th>page_url</th>\n",
       "      <th>resort_name</th>\n",
       "      <th>review</th>\n",
       "      <th>review_title</th>\n",
       "    </tr>\n",
       "  </thead>\n",
       "  <tbody>\n",
       "  </tbody>\n",
       "</table>\n",
       "</div>"
      ],
      "text/plain": [
       "Empty DataFrame\n",
       "Columns: [_id, page_url, resort_name, review, review_title]\n",
       "Index: []"
      ]
     },
     "execution_count": 6,
     "metadata": {},
     "output_type": "execute_result"
    }
   ],
   "source": [
    "# check df for NULLs\n",
    "df[df.review.isnull()==True]"
   ]
  },
  {
   "cell_type": "code",
   "execution_count": 7,
   "metadata": {},
   "outputs": [
    {
     "data": {
      "text/html": [
       "<div>\n",
       "<style scoped>\n",
       "    .dataframe tbody tr th:only-of-type {\n",
       "        vertical-align: middle;\n",
       "    }\n",
       "\n",
       "    .dataframe tbody tr th {\n",
       "        vertical-align: top;\n",
       "    }\n",
       "\n",
       "    .dataframe thead th {\n",
       "        text-align: right;\n",
       "    }\n",
       "</style>\n",
       "<table border=\"1\" class=\"dataframe\">\n",
       "  <thead>\n",
       "    <tr style=\"text-align: right;\">\n",
       "      <th></th>\n",
       "      <th>_id</th>\n",
       "      <th>page_url</th>\n",
       "      <th>resort_name</th>\n",
       "      <th>review</th>\n",
       "      <th>review_title</th>\n",
       "    </tr>\n",
       "  </thead>\n",
       "  <tbody>\n",
       "  </tbody>\n",
       "</table>\n",
       "</div>"
      ],
      "text/plain": [
       "Empty DataFrame\n",
       "Columns: [_id, page_url, resort_name, review, review_title]\n",
       "Index: []"
      ]
     },
     "execution_count": 7,
     "metadata": {},
     "output_type": "execute_result"
    }
   ],
   "source": [
    "# check df for empty revs\n",
    "df[df.review =='']"
   ]
  },
  {
   "cell_type": "code",
   "execution_count": 8,
   "metadata": {},
   "outputs": [
    {
     "data": {
      "text/plain": [
       "more\n",
       "False    96620\n",
       "Name: more, dtype: int64"
      ]
     },
     "execution_count": 8,
     "metadata": {},
     "output_type": "execute_result"
    }
   ],
   "source": [
    "# check for \"...More\"\n",
    "df['more'] = [rev.endswith(\"More\") for rev in df['review']]\n",
    "df.groupby('more')['more'].count()"
   ]
  },
  {
   "cell_type": "code",
   "execution_count": 9,
   "metadata": {},
   "outputs": [
    {
     "data": {
      "text/plain": [
       "0"
      ]
     },
     "execution_count": 9,
     "metadata": {},
     "output_type": "execute_result"
    }
   ],
   "source": [
    "# add upls that need to be rescraped to a list\n",
    "rescrape = df[df['more']==True]\n",
    "rescrape_urls = list(set(rescrape['page_url']))\n",
    "len(rescrape_urls)"
   ]
  },
  {
   "cell_type": "code",
   "execution_count": 10,
   "metadata": {},
   "outputs": [],
   "source": [
    "# delete urls that were scraped unsucessfully from the database\n",
    "# for u in rescrape_urls:\n",
    "#     ski3.delete_many({'page_url':u})"
   ]
  },
  {
   "cell_type": "code",
   "execution_count": 11,
   "metadata": {},
   "outputs": [
    {
     "data": {
      "text/plain": [
       "96620"
      ]
     },
     "execution_count": 11,
     "metadata": {},
     "output_type": "execute_result"
    }
   ],
   "source": [
    "# take urls out of the df\n",
    "df = df[~df['page_url'].isin(rescrape_urls)]\n",
    "len(df)"
   ]
  },
  {
   "cell_type": "code",
   "execution_count": 12,
   "metadata": {},
   "outputs": [
    {
     "data": {
      "text/plain": [
       "0"
      ]
     },
     "execution_count": 12,
     "metadata": {},
     "output_type": "execute_result"
    }
   ],
   "source": [
    "# write the utls to rescrape into a csv\n",
    "rescrape_urls = pd.DataFrame(rescrape_urls)\n",
    "# rescrape_urls.to_csv('rescrape_urls_2.csv')\n",
    "len(rescrape_urls)"
   ]
  },
  {
   "cell_type": "code",
   "execution_count": 13,
   "metadata": {},
   "outputs": [],
   "source": [
    "# drop more column\n",
    "df.drop('more', axis=1, inplace=True)"
   ]
  },
  {
   "cell_type": "code",
   "execution_count": 14,
   "metadata": {
    "scrolled": true
   },
   "outputs": [
    {
     "data": {
      "text/plain": [
       "96579"
      ]
     },
     "execution_count": 14,
     "metadata": {},
     "output_type": "execute_result"
    }
   ],
   "source": [
    "# remove duplicates\n",
    "df = df[df.duplicated(subset=['page_url','review'], keep='first')==False]\n",
    "len(df)"
   ]
  },
  {
   "cell_type": "code",
   "execution_count": 15,
   "metadata": {},
   "outputs": [],
   "source": [
    "# write into csv\n",
    "# df.to_csv('tripadvisor_reviews/tripadvisor_eng_reviews.csv')"
   ]
  },
  {
   "cell_type": "code",
   "execution_count": 16,
   "metadata": {},
   "outputs": [
    {
     "data": {
      "text/plain": [
       "page_url\n",
       "https://www.tripadvisor.com/Attraction_Review-g33676-d103044-Reviews-or20-Vail_Beaver_Creek_Resort-Vail_Colorado.html    10\n",
       "https://www.tripadvisor.com/Attraction_Review-g30205-d263759-Reviews-or440-Alta_Ski_Resort-Alta_Utah.html                10\n",
       "https://www.tripadvisor.com/Attraction_Review-g30205-d263759-Reviews-or420-Alta_Ski_Resort-Alta_Utah.html                10\n",
       "https://www.tripadvisor.com/Attraction_Review-g30205-d263759-Reviews-or410-Alta_Ski_Resort-Alta_Utah.html                10\n",
       "https://www.tripadvisor.com/Attraction_Review-g30205-d263759-Reviews-or400-Alta_Ski_Resort-Alta_Utah.html                10\n",
       "https://www.tripadvisor.com/Attraction_Review-g30205-d263759-Reviews-or40-Alta_Ski_Resort-Alta_Utah.html                 10\n",
       "https://www.tripadvisor.com/Attraction_Review-g30205-d263759-Reviews-or390-Alta_Ski_Resort-Alta_Utah.html                10\n",
       "https://www.tripadvisor.com/Attraction_Review-g30205-d263759-Reviews-or370-Alta_Ski_Resort-Alta_Utah.html                10\n",
       "https://www.tripadvisor.com/Attraction_Review-g30205-d263759-Reviews-or360-Alta_Ski_Resort-Alta_Utah.html                10\n",
       "https://www.tripadvisor.com/Attraction_Review-g30205-d263759-Reviews-or350-Alta_Ski_Resort-Alta_Utah.html                10\n",
       "Name: review, dtype: int64"
      ]
     },
     "execution_count": 16,
     "metadata": {},
     "output_type": "execute_result"
    }
   ],
   "source": [
    "df.groupby(by='page_url')['review'].count().sort_values(ascending=False)[:10]"
   ]
  }
 ],
 "metadata": {
  "kernelspec": {
   "display_name": "Python 3",
   "language": "python",
   "name": "python3"
  },
  "language_info": {
   "codemirror_mode": {
    "name": "ipython",
    "version": 3
   },
   "file_extension": ".py",
   "mimetype": "text/x-python",
   "name": "python",
   "nbconvert_exporter": "python",
   "pygments_lexer": "ipython3",
   "version": "3.6.4"
  }
 },
 "nbformat": 4,
 "nbformat_minor": 2
}
