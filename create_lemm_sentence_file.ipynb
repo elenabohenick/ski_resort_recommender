{
 "cells": [
  {
   "cell_type": "code",
   "execution_count": 1,
   "metadata": {},
   "outputs": [
    {
     "name": "stdout",
     "output_type": "stream",
     "text": [
      "[nltk_data] Downloading package stopwords to /home/ubuntu/nltk_data...\n",
      "[nltk_data]   Package stopwords is already up-to-date!\n"
     ]
    },
    {
     "data": {
      "text/plain": [
       "True"
      ]
     },
     "execution_count": 1,
     "metadata": {},
     "output_type": "execute_result"
    }
   ],
   "source": [
    "import nltk\n",
    "import pickle\n",
    "import pandas as pd\n",
    "import numpy as np\n",
    "from sklearn.feature_extraction.text import TfidfVectorizer\n",
    "from  sklearn.decomposition import NMF\n",
    "from sklearn.manifold import TSNE\n",
    "import matplotlib.pyplot as plt\n",
    "import seaborn as sns\n",
    "import matplotlib.patheffects as PathEffects\n",
    "from nltk.corpus import stopwords\n",
    "from nltk.tokenize import sent_tokenize\n",
    "from stop_words import get_stop_words\n",
    "from nltk.tokenize import word_tokenize\n",
    "from nltk.stem import WordNetLemmatizer\n",
    "nltk.download('stopwords')"
   ]
  },
  {
   "cell_type": "code",
   "execution_count": 2,
   "metadata": {},
   "outputs": [],
   "source": [
    "with open('data/filtered/tripadvisor_filtered_reviews_lemm.pkl' , 'rb') as picklefile: \n",
    "    df = pickle.load(picklefile)"
   ]
  },
  {
   "cell_type": "code",
   "execution_count": 3,
   "metadata": {},
   "outputs": [
    {
     "data": {
      "text/html": [
       "<div>\n",
       "<style scoped>\n",
       "    .dataframe tbody tr th:only-of-type {\n",
       "        vertical-align: middle;\n",
       "    }\n",
       "\n",
       "    .dataframe tbody tr th {\n",
       "        vertical-align: top;\n",
       "    }\n",
       "\n",
       "    .dataframe thead th {\n",
       "        text-align: right;\n",
       "    }\n",
       "</style>\n",
       "<table border=\"1\" class=\"dataframe\">\n",
       "  <thead>\n",
       "    <tr style=\"text-align: right;\">\n",
       "      <th></th>\n",
       "      <th>page_url</th>\n",
       "      <th>url</th>\n",
       "      <th>eng_rev_num</th>\n",
       "      <th>snowforecast_url</th>\n",
       "      <th>resort_name</th>\n",
       "      <th>region</th>\n",
       "      <th>country</th>\n",
       "      <th>state_region</th>\n",
       "      <th>top</th>\n",
       "      <th>bottom</th>\n",
       "      <th>vertical_drop</th>\n",
       "      <th>acres_of ski</th>\n",
       "      <th>pistes</th>\n",
       "      <th>halfpipes</th>\n",
       "      <th>terrain_parks</th>\n",
       "      <th>rev_full</th>\n",
       "      <th>rev_id</th>\n",
       "    </tr>\n",
       "  </thead>\n",
       "  <tbody>\n",
       "    <tr>\n",
       "      <th>0</th>\n",
       "      <td>https://www.tripadvisor.com/Attraction_Review-...</td>\n",
       "      <td>https://www.tripadvisor.com/Attraction_Review-...</td>\n",
       "      <td>58</td>\n",
       "      <td>https://www.snow-forecast.com/resorts/Bressanone</td>\n",
       "      <td>Plose Brixen</td>\n",
       "      <td>Europe</td>\n",
       "      <td>Italy</td>\n",
       "      <td>NaN</td>\n",
       "      <td>2499</td>\n",
       "      <td>1067</td>\n",
       "      <td>1432</td>\n",
       "      <td>NaN</td>\n",
       "      <td>35.0</td>\n",
       "      <td>0</td>\n",
       "      <td>0</td>\n",
       "      <td>Hiking, Food, Fun Love the hiking trails to th...</td>\n",
       "      <td>0</td>\n",
       "    </tr>\n",
       "    <tr>\n",
       "      <th>1</th>\n",
       "      <td>https://www.tripadvisor.com/Attraction_Review-...</td>\n",
       "      <td>https://www.tripadvisor.com/Attraction_Review-...</td>\n",
       "      <td>58</td>\n",
       "      <td>https://www.snow-forecast.com/resorts/Bressanone</td>\n",
       "      <td>Plose Brixen</td>\n",
       "      <td>Europe</td>\n",
       "      <td>Italy</td>\n",
       "      <td>NaN</td>\n",
       "      <td>2499</td>\n",
       "      <td>1067</td>\n",
       "      <td>1432</td>\n",
       "      <td>NaN</td>\n",
       "      <td>35.0</td>\n",
       "      <td>0</td>\n",
       "      <td>0</td>\n",
       "      <td>Fantastic A perfect place for enjoying the fan...</td>\n",
       "      <td>1</td>\n",
       "    </tr>\n",
       "    <tr>\n",
       "      <th>2</th>\n",
       "      <td>https://www.tripadvisor.com/Attraction_Review-...</td>\n",
       "      <td>https://www.tripadvisor.com/Attraction_Review-...</td>\n",
       "      <td>58</td>\n",
       "      <td>https://www.snow-forecast.com/resorts/Bressanone</td>\n",
       "      <td>Plose Brixen</td>\n",
       "      <td>Europe</td>\n",
       "      <td>Italy</td>\n",
       "      <td>NaN</td>\n",
       "      <td>2499</td>\n",
       "      <td>1067</td>\n",
       "      <td>1432</td>\n",
       "      <td>NaN</td>\n",
       "      <td>35.0</td>\n",
       "      <td>0</td>\n",
       "      <td>0</td>\n",
       "      <td>Very nice view of the Dolomites! Great place t...</td>\n",
       "      <td>2</td>\n",
       "    </tr>\n",
       "  </tbody>\n",
       "</table>\n",
       "</div>"
      ],
      "text/plain": [
       "                                            page_url  \\\n",
       "0  https://www.tripadvisor.com/Attraction_Review-...   \n",
       "1  https://www.tripadvisor.com/Attraction_Review-...   \n",
       "2  https://www.tripadvisor.com/Attraction_Review-...   \n",
       "\n",
       "                                                 url  eng_rev_num  \\\n",
       "0  https://www.tripadvisor.com/Attraction_Review-...           58   \n",
       "1  https://www.tripadvisor.com/Attraction_Review-...           58   \n",
       "2  https://www.tripadvisor.com/Attraction_Review-...           58   \n",
       "\n",
       "                                   snowforecast_url   resort_name  region  \\\n",
       "0  https://www.snow-forecast.com/resorts/Bressanone  Plose Brixen  Europe   \n",
       "1  https://www.snow-forecast.com/resorts/Bressanone  Plose Brixen  Europe   \n",
       "2  https://www.snow-forecast.com/resorts/Bressanone  Plose Brixen  Europe   \n",
       "\n",
       "  country state_region   top  bottom  vertical_drop acres_of ski  pistes  \\\n",
       "0   Italy          NaN  2499    1067           1432          NaN    35.0   \n",
       "1   Italy          NaN  2499    1067           1432          NaN    35.0   \n",
       "2   Italy          NaN  2499    1067           1432          NaN    35.0   \n",
       "\n",
       "   halfpipes  terrain_parks  \\\n",
       "0          0              0   \n",
       "1          0              0   \n",
       "2          0              0   \n",
       "\n",
       "                                            rev_full  rev_id  \n",
       "0  Hiking, Food, Fun Love the hiking trails to th...       0  \n",
       "1  Fantastic A perfect place for enjoying the fan...       1  \n",
       "2  Very nice view of the Dolomites! Great place t...       2  "
      ]
     },
     "execution_count": 3,
     "metadata": {},
     "output_type": "execute_result"
    }
   ],
   "source": [
    "df.head(3)"
   ]
  },
  {
   "cell_type": "code",
   "execution_count": 4,
   "metadata": {},
   "outputs": [
    {
     "data": {
      "text/plain": [
       "dups\n",
       "False    83541\n",
       "True      6247\n",
       "Name: dups, dtype: int64"
      ]
     },
     "execution_count": 4,
     "metadata": {},
     "output_type": "execute_result"
    }
   ],
   "source": [
    "# check for duplicates\n",
    "df['dups']=df.duplicated(subset=['resort_name','rev_full'],keep='first')\n",
    "\n",
    "df.groupby('dups')['dups'].count()"
   ]
  },
  {
   "cell_type": "code",
   "execution_count": 5,
   "metadata": {},
   "outputs": [],
   "source": [
    "# drop duplicates\n",
    "df = df[df.dups==False].copy()"
   ]
  },
  {
   "cell_type": "code",
   "execution_count": 6,
   "metadata": {},
   "outputs": [
    {
     "name": "stdout",
     "output_type": "stream",
     "text": [
      "<class 'pandas.core.frame.DataFrame'>\n",
      "Int64Index: 83541 entries, 0 to 89787\n",
      "Data columns (total 18 columns):\n",
      "page_url            83541 non-null object\n",
      "url                 83541 non-null object\n",
      "eng_rev_num         83541 non-null int64\n",
      "snowforecast_url    83541 non-null object\n",
      "resort_name         83541 non-null object\n",
      "region              83541 non-null object\n",
      "country             83541 non-null object\n",
      "state_region        59941 non-null object\n",
      "top                 83541 non-null int64\n",
      "bottom              83541 non-null int64\n",
      "vertical_drop       83541 non-null int64\n",
      "acres_of ski        69388 non-null object\n",
      "pistes              78806 non-null float64\n",
      "halfpipes           83541 non-null int64\n",
      "terrain_parks       83541 non-null int64\n",
      "rev_full            83539 non-null object\n",
      "rev_id              83541 non-null int64\n",
      "dups                83541 non-null bool\n",
      "dtypes: bool(1), float64(1), int64(7), object(9)\n",
      "memory usage: 11.6+ MB\n"
     ]
    }
   ],
   "source": [
    "df.info()"
   ]
  },
  {
   "cell_type": "markdown",
   "metadata": {},
   "source": [
    "# Get sentences"
   ]
  },
  {
   "cell_type": "code",
   "execution_count": 7,
   "metadata": {},
   "outputs": [],
   "source": [
    "# break reviews into lists of sentences\n",
    "df['sentence'] = [sent_tokenize(str(rev)) for rev in df['rev_full']]"
   ]
  },
  {
   "cell_type": "code",
   "execution_count": 8,
   "metadata": {},
   "outputs": [],
   "source": [
    "# assign an ID to each reaview that can be used as a Key in the future\n",
    "df['rev_id'] = [i for i in range(len(df))]"
   ]
  },
  {
   "cell_type": "code",
   "execution_count": 9,
   "metadata": {},
   "outputs": [],
   "source": [
    "# create a daataframe with a sentence per row\n",
    "\n",
    "\n",
    "rev_list = df['sentence'].tolist()\n",
    "rev_id = df['rev_id'].tolist()\n",
    "\n",
    "# create a list of all sentences and all review IDs of the same length\n",
    "sentence_list = []\n",
    "review_id = []\n",
    "for i, rec in enumerate(rev_list):\n",
    "    for sent in rec:\n",
    "        sentence_list.append(sent)\n",
    "        review_id.append(rev_id[i])"
   ]
  },
  {
   "cell_type": "code",
   "execution_count": 10,
   "metadata": {},
   "outputs": [],
   "source": [
    "sent_dict = {}\n",
    "sent_dict['rev_id'] = review_id\n",
    "sent_dict['sentence'] = sentence_list\n",
    "\n",
    "df_sent = pd.DataFrame.from_dict(sent_dict)"
   ]
  },
  {
   "cell_type": "code",
   "execution_count": 11,
   "metadata": {},
   "outputs": [
    {
     "data": {
      "text/html": [
       "<div>\n",
       "<style scoped>\n",
       "    .dataframe tbody tr th:only-of-type {\n",
       "        vertical-align: middle;\n",
       "    }\n",
       "\n",
       "    .dataframe tbody tr th {\n",
       "        vertical-align: top;\n",
       "    }\n",
       "\n",
       "    .dataframe thead th {\n",
       "        text-align: right;\n",
       "    }\n",
       "</style>\n",
       "<table border=\"1\" class=\"dataframe\">\n",
       "  <thead>\n",
       "    <tr style=\"text-align: right;\">\n",
       "      <th></th>\n",
       "      <th>rev_id</th>\n",
       "      <th>sentence</th>\n",
       "    </tr>\n",
       "  </thead>\n",
       "  <tbody>\n",
       "    <tr>\n",
       "      <th>0</th>\n",
       "      <td>0</td>\n",
       "      <td>Hiking, Food, Fun Love the hiking trails to th...</td>\n",
       "    </tr>\n",
       "    <tr>\n",
       "      <th>1</th>\n",
       "      <td>0</td>\n",
       "      <td>Amazing panoramic views are perfect for photos...</td>\n",
       "    </tr>\n",
       "    <tr>\n",
       "      <th>2</th>\n",
       "      <td>0</td>\n",
       "      <td>I fell in love with the cows!!</td>\n",
       "    </tr>\n",
       "    <tr>\n",
       "      <th>3</th>\n",
       "      <td>0</td>\n",
       "      <td>Particularly one that followed us up the hill.</td>\n",
       "    </tr>\n",
       "    <tr>\n",
       "      <th>4</th>\n",
       "      <td>0</td>\n",
       "      <td>One of my favorite moments was taking selfies ...</td>\n",
       "    </tr>\n",
       "    <tr>\n",
       "      <th>5</th>\n",
       "      <td>0</td>\n",
       "      <td>The food is tasty , service was a little slow,...</td>\n",
       "    </tr>\n",
       "    <tr>\n",
       "      <th>6</th>\n",
       "      <td>0</td>\n",
       "      <td>It was a bit chilly esp as you climb.visited i...</td>\n",
       "    </tr>\n",
       "    <tr>\n",
       "      <th>7</th>\n",
       "      <td>0</td>\n",
       "      <td>Bring a layer to break the wind.</td>\n",
       "    </tr>\n",
       "    <tr>\n",
       "      <th>8</th>\n",
       "      <td>0</td>\n",
       "      <td>And the Gondola ride up was quick and easy!!!</td>\n",
       "    </tr>\n",
       "    <tr>\n",
       "      <th>9</th>\n",
       "      <td>0</td>\n",
       "      <td>By the way this is a great area for family's w...</td>\n",
       "    </tr>\n",
       "  </tbody>\n",
       "</table>\n",
       "</div>"
      ],
      "text/plain": [
       "   rev_id                                           sentence\n",
       "0       0  Hiking, Food, Fun Love the hiking trails to th...\n",
       "1       0  Amazing panoramic views are perfect for photos...\n",
       "2       0                     I fell in love with the cows!!\n",
       "3       0     Particularly one that followed us up the hill.\n",
       "4       0  One of my favorite moments was taking selfies ...\n",
       "5       0  The food is tasty , service was a little slow,...\n",
       "6       0  It was a bit chilly esp as you climb.visited i...\n",
       "7       0                   Bring a layer to break the wind.\n",
       "8       0      And the Gondola ride up was quick and easy!!!\n",
       "9       0  By the way this is a great area for family's w..."
      ]
     },
     "execution_count": 11,
     "metadata": {},
     "output_type": "execute_result"
    }
   ],
   "source": [
    "df_sent.head(10)"
   ]
  },
  {
   "cell_type": "code",
   "execution_count": 12,
   "metadata": {},
   "outputs": [],
   "source": [
    "# create a lemmatizer function that uses part-of-speech tag from NLTK output\n",
    "\n",
    "def lemmatizer(text):\n",
    "    tokens = word_tokenize(text)\n",
    "    tagged = nltk.pos_tag(tokens)\n",
    "    lemmatizer = WordNetLemmatizer()\n",
    "    lem_words = []\n",
    "    for tagged_word in tagged:\n",
    "        word = tagged_word[0].lower()\n",
    "        if tagged_word[1].startswith('VB'):\n",
    "            word_tag = 'v'\n",
    "        elif tagged_word[1].startswith('JJ'):\n",
    "            word_tag = 'a'\n",
    "        elif tagged_word[1].startswith('RB'):\n",
    "            word_tag = 'r'\n",
    "        else:\n",
    "            word_tag = 'n'\n",
    "                 \n",
    "        lem_words.append(lemmatizer.lemmatize(word,pos=word_tag))\n",
    "    return(lem_words)"
   ]
  },
  {
   "cell_type": "code",
   "execution_count": 13,
   "metadata": {},
   "outputs": [],
   "source": [
    "# lemmatize words in sentences\n",
    "df_sent['lem_sent_token'] = [lemmatizer(str(rev)) for rev in df_sent['sentence']]"
   ]
  },
  {
   "cell_type": "code",
   "execution_count": 14,
   "metadata": {},
   "outputs": [],
   "source": [
    "# turn lemmatized tokens back into sting form\n",
    "df_sent['lem_sent_text'] = [\" \".join(lems) for lems in df_sent['lem_sent_token']]"
   ]
  },
  {
   "cell_type": "code",
   "execution_count": 15,
   "metadata": {},
   "outputs": [
    {
     "data": {
      "text/html": [
       "<div>\n",
       "<style scoped>\n",
       "    .dataframe tbody tr th:only-of-type {\n",
       "        vertical-align: middle;\n",
       "    }\n",
       "\n",
       "    .dataframe tbody tr th {\n",
       "        vertical-align: top;\n",
       "    }\n",
       "\n",
       "    .dataframe thead th {\n",
       "        text-align: right;\n",
       "    }\n",
       "</style>\n",
       "<table border=\"1\" class=\"dataframe\">\n",
       "  <thead>\n",
       "    <tr style=\"text-align: right;\">\n",
       "      <th></th>\n",
       "      <th>rev_id</th>\n",
       "      <th>sentence</th>\n",
       "      <th>lem_sent_token</th>\n",
       "      <th>lem_sent_text</th>\n",
       "    </tr>\n",
       "  </thead>\n",
       "  <tbody>\n",
       "    <tr>\n",
       "      <th>0</th>\n",
       "      <td>0</td>\n",
       "      <td>Hiking, Food, Fun Love the hiking trails to th...</td>\n",
       "      <td>[hiking, ,, food, ,, fun, love, the, hiking, t...</td>\n",
       "      <td>hiking , food , fun love the hiking trail to t...</td>\n",
       "    </tr>\n",
       "    <tr>\n",
       "      <th>1</th>\n",
       "      <td>0</td>\n",
       "      <td>Amazing panoramic views are perfect for photos...</td>\n",
       "      <td>[amaze, panoramic, view, be, perfect, for, pho...</td>\n",
       "      <td>amaze panoramic view be perfect for photo to c...</td>\n",
       "    </tr>\n",
       "    <tr>\n",
       "      <th>2</th>\n",
       "      <td>0</td>\n",
       "      <td>I fell in love with the cows!!</td>\n",
       "      <td>[i, fell, in, love, with, the, cow, !, !]</td>\n",
       "      <td>i fell in love with the cow ! !</td>\n",
       "    </tr>\n",
       "    <tr>\n",
       "      <th>3</th>\n",
       "      <td>0</td>\n",
       "      <td>Particularly one that followed us up the hill.</td>\n",
       "      <td>[particularly, one, that, follow, u, up, the, ...</td>\n",
       "      <td>particularly one that follow u up the hill .</td>\n",
       "    </tr>\n",
       "    <tr>\n",
       "      <th>4</th>\n",
       "      <td>0</td>\n",
       "      <td>One of my favorite moments was taking selfies ...</td>\n",
       "      <td>[one, of, my, favorite, moment, be, take, self...</td>\n",
       "      <td>one of my favorite moment be take selfies with...</td>\n",
       "    </tr>\n",
       "  </tbody>\n",
       "</table>\n",
       "</div>"
      ],
      "text/plain": [
       "   rev_id                                           sentence  \\\n",
       "0       0  Hiking, Food, Fun Love the hiking trails to th...   \n",
       "1       0  Amazing panoramic views are perfect for photos...   \n",
       "2       0                     I fell in love with the cows!!   \n",
       "3       0     Particularly one that followed us up the hill.   \n",
       "4       0  One of my favorite moments was taking selfies ...   \n",
       "\n",
       "                                      lem_sent_token  \\\n",
       "0  [hiking, ,, food, ,, fun, love, the, hiking, t...   \n",
       "1  [amaze, panoramic, view, be, perfect, for, pho...   \n",
       "2          [i, fell, in, love, with, the, cow, !, !]   \n",
       "3  [particularly, one, that, follow, u, up, the, ...   \n",
       "4  [one, of, my, favorite, moment, be, take, self...   \n",
       "\n",
       "                                       lem_sent_text  \n",
       "0  hiking , food , fun love the hiking trail to t...  \n",
       "1  amaze panoramic view be perfect for photo to c...  \n",
       "2                    i fell in love with the cow ! !  \n",
       "3       particularly one that follow u up the hill .  \n",
       "4  one of my favorite moment be take selfies with...  "
      ]
     },
     "execution_count": 15,
     "metadata": {},
     "output_type": "execute_result"
    }
   ],
   "source": [
    "df_sent.head()"
   ]
  },
  {
   "cell_type": "code",
   "execution_count": 16,
   "metadata": {},
   "outputs": [],
   "source": [
    "# pickle lemmatized sentence file\n",
    "# with open('data/filtered/tripadvisor_filtered_sent_lemm.pkl', 'wb') as picklefile:\n",
    "#     pickle.dump(df_sent, picklefile)"
   ]
  }
 ],
 "metadata": {
  "kernelspec": {
   "display_name": "Python 3",
   "language": "python",
   "name": "python3"
  },
  "language_info": {
   "codemirror_mode": {
    "name": "ipython",
    "version": 3
   },
   "file_extension": ".py",
   "mimetype": "text/x-python",
   "name": "python",
   "nbconvert_exporter": "python",
   "pygments_lexer": "ipython3",
   "version": "3.6.4"
  }
 },
 "nbformat": 4,
 "nbformat_minor": 2
}
