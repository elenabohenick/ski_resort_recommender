{
 "cells": [
  {
   "cell_type": "code",
   "execution_count": 13,
   "metadata": {},
   "outputs": [],
   "source": [
    "import requests\n",
    "from bs4 import BeautifulSoup\n",
    "import pandas as pd\n",
    "from time import sleep\n",
    "import re\n",
    "import math\n",
    "import numpy as np"
   ]
  },
  {
   "cell_type": "code",
   "execution_count": 14,
   "metadata": {},
   "outputs": [
    {
     "data": {
      "text/html": [
       "<div>\n",
       "<style scoped>\n",
       "    .dataframe tbody tr th:only-of-type {\n",
       "        vertical-align: middle;\n",
       "    }\n",
       "\n",
       "    .dataframe tbody tr th {\n",
       "        vertical-align: top;\n",
       "    }\n",
       "\n",
       "    .dataframe thead th {\n",
       "        text-align: right;\n",
       "    }\n",
       "</style>\n",
       "<table border=\"1\" class=\"dataframe\">\n",
       "  <thead>\n",
       "    <tr style=\"text-align: right;\">\n",
       "      <th></th>\n",
       "      <th>resort_meta</th>\n",
       "      <th>url</th>\n",
       "      <th>review_num</th>\n",
       "    </tr>\n",
       "  </thead>\n",
       "  <tbody>\n",
       "    <tr>\n",
       "      <th>0</th>\n",
       "      <td>Ski &amp; Snowboard Areas\\rRosa Khutor Ski Resort\\...</td>\n",
       "      <td>https://www.tripadvisor.com/Attraction_Review-...</td>\n",
       "      <td>4053</td>\n",
       "    </tr>\n",
       "    <tr>\n",
       "      <th>1</th>\n",
       "      <td>Ski &amp; Snowboard Areas\\rCatedral Alta Patagonis...</td>\n",
       "      <td>https://www.tripadvisor.com/Attraction_Review-...</td>\n",
       "      <td>4881</td>\n",
       "    </tr>\n",
       "    <tr>\n",
       "      <th>2</th>\n",
       "      <td>Ski &amp; Snowboard Areas\\rValle Nevado - Ski Reso...</td>\n",
       "      <td>https://www.tripadvisor.com/Attraction_Review-...</td>\n",
       "      <td>3885</td>\n",
       "    </tr>\n",
       "    <tr>\n",
       "      <th>3</th>\n",
       "      <td>Ski &amp; Snowboard Areas\\rSnozone\\r2,279 reviews\\...</td>\n",
       "      <td>https://www.tripadvisor.com/Attraction_Review-...</td>\n",
       "      <td>2279</td>\n",
       "    </tr>\n",
       "    <tr>\n",
       "      <th>4</th>\n",
       "      <td>Ski &amp; Snowboard Areas\\rCairnGorm Mountain\\r2,2...</td>\n",
       "      <td>https://www.tripadvisor.com/Attraction_Review-...</td>\n",
       "      <td>2267</td>\n",
       "    </tr>\n",
       "  </tbody>\n",
       "</table>\n",
       "</div>"
      ],
      "text/plain": [
       "                                         resort_meta  \\\n",
       "0  Ski & Snowboard Areas\\rRosa Khutor Ski Resort\\...   \n",
       "1  Ski & Snowboard Areas\\rCatedral Alta Patagonis...   \n",
       "2  Ski & Snowboard Areas\\rValle Nevado - Ski Reso...   \n",
       "3  Ski & Snowboard Areas\\rSnozone\\r2,279 reviews\\...   \n",
       "4  Ski & Snowboard Areas\\rCairnGorm Mountain\\r2,2...   \n",
       "\n",
       "                                                 url  review_num  \n",
       "0  https://www.tripadvisor.com/Attraction_Review-...        4053  \n",
       "1  https://www.tripadvisor.com/Attraction_Review-...        4881  \n",
       "2  https://www.tripadvisor.com/Attraction_Review-...        3885  \n",
       "3  https://www.tripadvisor.com/Attraction_Review-...        2279  \n",
       "4  https://www.tripadvisor.com/Attraction_Review-...        2267  "
      ]
     },
     "execution_count": 14,
     "metadata": {},
     "output_type": "execute_result"
    }
   ],
   "source": [
    "df = pd.read_csv('tripadvisor_resort_meta.csv',encoding='ISO-8859-1')\n",
    "df.head()"
   ]
  },
  {
   "cell_type": "code",
   "execution_count": 15,
   "metadata": {},
   "outputs": [],
   "source": [
    "urls = list(df['url'])"
   ]
  },
  {
   "cell_type": "code",
   "execution_count": 16,
   "metadata": {},
   "outputs": [
    {
     "data": {
      "text/plain": [
       "565"
      ]
     },
     "execution_count": 16,
     "metadata": {},
     "output_type": "execute_result"
    }
   ],
   "source": [
    "len(urls)"
   ]
  },
  {
   "cell_type": "code",
   "execution_count": 7,
   "metadata": {},
   "outputs": [],
   "source": [
    "def get_url_list(url):\n",
    "    headers = {'User-Agent': 'Mozilla/5.0 (Macintosh; Intel Mac OS X 10_10_1) AppleWebKit/537.36 (KHTML, like Gecko) Chrome/39.0.2171.95 Safari/537.36'}\n",
    "    response = requests.get(url, headers=headers)\n",
    "    search_page = response.text\n",
    "    soup = BeautifulSoup(search_page,\"html5lib\")\n",
    "\n",
    "    # get review number\n",
    "    eng_revs = soup.find_all(\"p\", {\"class\": \"pagination-details\"})\n",
    "    if eng_revs:\n",
    "        review_string = eng_revs[0].text\n",
    "        num_reviews = re.match(r'.+\\s(\\d+,*\\d*)\\sreviews',review_string).group(1)\n",
    "        num_reviews = int(num_reviews.replace(\",\",\"\"))\n",
    "        num_pages = math.ceil(num_reviews//10)+1\n",
    "\n",
    "        # create urls\n",
    "        review_urls = []\n",
    "\n",
    "        url_1 = re.match(r'(https://www.tripadvisor.com/Attraction_Review-g\\d+-d\\d+-Reviews-)(.+html)',url).group(1)\n",
    "        url_3 = re.match(r'(https://www.tripadvisor.com/Attraction_Review-g\\d+-d\\d+-Reviews-)(.+html)',url).group(2)\n",
    "        for i in range(1,num_pages):\n",
    "            dic = {}    \n",
    "            url_2 = \"or\"+str(i*10)+\"-\"\n",
    "            dic['url'] = url\n",
    "            dic['page_url'] = url_1 + url_2 + url_3\n",
    "            review_urls.append(dic)\n",
    "        return(review_urls)\n",
    "    else:\n",
    "        review_urls = []\n",
    "        dic = {}\n",
    "        dic['url'] = url\n",
    "        dic['page_url'] = url\n",
    "        review_urls.append(dic)\n",
    "    return(review_urls)"
   ]
  },
  {
   "cell_type": "code",
   "execution_count": null,
   "metadata": {},
   "outputs": [],
   "source": [
    "# try to grab Eng revss"
   ]
  },
  {
   "cell_type": "code",
   "execution_count": 17,
   "metadata": {},
   "outputs": [],
   "source": [
    "def eng_rev_num(url):\n",
    "    headers = {'User-Agent': 'Mozilla/5.0 (Macintosh; Intel Mac OS X 10_10_1) AppleWebKit/537.36 (KHTML, like Gecko) Chrome/39.0.2171.95 Safari/537.36'}\n",
    "    response = requests.get(url, headers=headers)\n",
    "    search_page = response.text\n",
    "    soup = BeautifulSoup(search_page,\"html5lib\")\n",
    "    lang_revs = soup.find(class_='ui_column is-3 language').text\n",
    "    lang_revs = lang_revs.replace('\\xa0','')\n",
    "    lang_revs = lang_revs.replace('(',\" \")\n",
    "    lang_revs = lang_revs.replace(')',\" \")\n",
    "    lang_revs = lang_revs.split(\" \")\n",
    "    idx = lang_revs.index('English')+1\n",
    "    eng_num = lang_revs[idx]\n",
    "    eng_num = int(eng_num.replace(\",\",\"\"))\n",
    "    dic = {}\n",
    "    dic['url']=url\n",
    "    dic['eng_rev']=eng_num\n",
    "    return(dic)"
   ]
  },
  {
   "cell_type": "code",
   "execution_count": 18,
   "metadata": {},
   "outputs": [],
   "source": [
    "eng_test = []\n",
    "for i in urls:\n",
    "    eng_test.append(eng_rev_num(i))"
   ]
  },
  {
   "cell_type": "code",
   "execution_count": 20,
   "metadata": {},
   "outputs": [],
   "source": [
    "eng_test = pd.DataFrame.from_dict(eng_test)"
   ]
  },
  {
   "cell_type": "code",
   "execution_count": 21,
   "metadata": {},
   "outputs": [],
   "source": [
    "eng_test.to_csv('eng_revs_num.csv')"
   ]
  },
  {
   "cell_type": "code",
   "execution_count": 22,
   "metadata": {},
   "outputs": [
    {
     "data": {
      "text/html": [
       "<div>\n",
       "<style scoped>\n",
       "    .dataframe tbody tr th:only-of-type {\n",
       "        vertical-align: middle;\n",
       "    }\n",
       "\n",
       "    .dataframe tbody tr th {\n",
       "        vertical-align: top;\n",
       "    }\n",
       "\n",
       "    .dataframe thead th {\n",
       "        text-align: right;\n",
       "    }\n",
       "</style>\n",
       "<table border=\"1\" class=\"dataframe\">\n",
       "  <thead>\n",
       "    <tr style=\"text-align: right;\">\n",
       "      <th></th>\n",
       "      <th>eng_rev</th>\n",
       "      <th>url</th>\n",
       "    </tr>\n",
       "  </thead>\n",
       "  <tbody>\n",
       "    <tr>\n",
       "      <th>0</th>\n",
       "      <td>86</td>\n",
       "      <td>https://www.tripadvisor.com/Attraction_Review-...</td>\n",
       "    </tr>\n",
       "    <tr>\n",
       "      <th>1</th>\n",
       "      <td>224</td>\n",
       "      <td>https://www.tripadvisor.com/Attraction_Review-...</td>\n",
       "    </tr>\n",
       "    <tr>\n",
       "      <th>2</th>\n",
       "      <td>189</td>\n",
       "      <td>https://www.tripadvisor.com/Attraction_Review-...</td>\n",
       "    </tr>\n",
       "    <tr>\n",
       "      <th>3</th>\n",
       "      <td>2278</td>\n",
       "      <td>https://www.tripadvisor.com/Attraction_Review-...</td>\n",
       "    </tr>\n",
       "    <tr>\n",
       "      <th>4</th>\n",
       "      <td>2175</td>\n",
       "      <td>https://www.tripadvisor.com/Attraction_Review-...</td>\n",
       "    </tr>\n",
       "  </tbody>\n",
       "</table>\n",
       "</div>"
      ],
      "text/plain": [
       "   eng_rev                                                url\n",
       "0       86  https://www.tripadvisor.com/Attraction_Review-...\n",
       "1      224  https://www.tripadvisor.com/Attraction_Review-...\n",
       "2      189  https://www.tripadvisor.com/Attraction_Review-...\n",
       "3     2278  https://www.tripadvisor.com/Attraction_Review-...\n",
       "4     2175  https://www.tripadvisor.com/Attraction_Review-..."
      ]
     },
     "execution_count": 22,
     "metadata": {},
     "output_type": "execute_result"
    }
   ],
   "source": [
    "eng_test.head()"
   ]
  },
  {
   "cell_type": "code",
   "execution_count": 23,
   "metadata": {},
   "outputs": [],
   "source": [
    "eng_only = eng_test[eng_test.eng_rev>0]"
   ]
  },
  {
   "cell_type": "code",
   "execution_count": null,
   "metadata": {},
   "outputs": [],
   "source": [
    "# create urls for scraping"
   ]
  },
  {
   "cell_type": "code",
   "execution_count": 130,
   "metadata": {
    "scrolled": false
   },
   "outputs": [
    {
     "name": "stdout",
     "output_type": "stream",
     "text": [
      "0\n",
      "1\n",
      "2\n",
      "3\n",
      "4\n",
      "5\n",
      "6\n",
      "7\n",
      "8\n",
      "9\n",
      "10\n",
      "11\n",
      "12\n",
      "13\n",
      "14\n",
      "15\n",
      "16\n",
      "17\n",
      "18\n",
      "19\n",
      "20\n",
      "21\n",
      "22\n",
      "23\n",
      "24\n",
      "25\n",
      "26\n",
      "27\n",
      "28\n",
      "29\n",
      "30\n",
      "31\n",
      "32\n",
      "33\n",
      "34\n",
      "35\n",
      "36\n",
      "37\n",
      "38\n",
      "39\n",
      "40\n",
      "41\n",
      "42\n",
      "43\n",
      "44\n",
      "45\n",
      "46\n",
      "47\n",
      "48\n",
      "49\n",
      "50\n",
      "51\n",
      "52\n",
      "53\n",
      "54\n",
      "55\n",
      "56\n",
      "57\n",
      "58\n",
      "59\n",
      "60\n",
      "61\n",
      "62\n",
      "63\n",
      "64\n",
      "65\n",
      "66\n",
      "67\n",
      "68\n",
      "69\n",
      "70\n",
      "71\n",
      "72\n",
      "73\n",
      "74\n",
      "75\n",
      "76\n",
      "77\n",
      "78\n",
      "79\n",
      "80\n",
      "81\n",
      "82\n",
      "83\n",
      "84\n",
      "84\n",
      "86\n",
      "87\n",
      "88\n",
      "89\n",
      "90\n",
      "91\n",
      "92\n",
      "93\n",
      "94\n",
      "95\n",
      "96\n",
      "97\n",
      "98\n",
      "99\n",
      "100\n",
      "101\n",
      "102\n",
      "103\n",
      "104\n",
      "105\n",
      "106\n",
      "107\n"
     ]
    }
   ],
   "source": [
    "all_urls = []\n",
    "for u in urls:\n",
    "    idx = urls.index(u)\n",
    "    temp_list = get_url_list(u)\n",
    "    all_urls.extend(temp_list)     \n",
    "    temp_df = pd.DataFrame.from_dict(all_urls)\n",
    "    temp_df.to_csv(f\"tripadvisor_reviews/url_batch/url_batch_0.csv\")\n",
    "    print(idx)\n",
    "    sleep(0.5)"
   ]
  },
  {
   "cell_type": "code",
   "execution_count": 132,
   "metadata": {},
   "outputs": [],
   "source": [
    "fs = ['all_urls_by_rev_page.csv','tripadvisor_reviews/url_batch/url_batch_0.csv']\n",
    "for i in fs:\n",
    "    df = pd.read_csv(i)\n",
    "    dfs.append(df)"
   ]
  },
  {
   "cell_type": "code",
   "execution_count": 133,
   "metadata": {},
   "outputs": [],
   "source": [
    "all_urls = pd.concat(dfs)"
   ]
  },
  {
   "cell_type": "code",
   "execution_count": 134,
   "metadata": {},
   "outputs": [],
   "source": [
    "all_urls.to_csv(\"final_urls_by_rev_page.csv\")"
   ]
  }
 ],
 "metadata": {
  "kernelspec": {
   "display_name": "Python 3",
   "language": "python",
   "name": "python3"
  },
  "language_info": {
   "codemirror_mode": {
    "name": "ipython",
    "version": 3
   },
   "file_extension": ".py",
   "mimetype": "text/x-python",
   "name": "python",
   "nbconvert_exporter": "python",
   "pygments_lexer": "ipython3",
   "version": "3.6.4"
  }
 },
 "nbformat": 4,
 "nbformat_minor": 2
}
