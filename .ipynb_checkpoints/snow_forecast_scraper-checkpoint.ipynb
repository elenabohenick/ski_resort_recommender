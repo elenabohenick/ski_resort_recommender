{
 "cells": [
  {
   "cell_type": "code",
   "execution_count": 7,
   "metadata": {},
   "outputs": [],
   "source": [
    "import requests\n",
    "from bs4 import BeautifulSoup\n",
    "import pandas as pd\n",
    "from time import sleep"
   ]
  },
  {
   "cell_type": "code",
   "execution_count": 45,
   "metadata": {},
   "outputs": [],
   "source": [
    "sf = pd.read_csv('../data/tripadvisor_snowforecast_urls.csv')"
   ]
  },
  {
   "cell_type": "code",
   "execution_count": 46,
   "metadata": {},
   "outputs": [],
   "source": [
    "url_list = sf['snow_forecast'].tolist()"
   ]
  },
  {
   "cell_type": "code",
   "execution_count": 47,
   "metadata": {},
   "outputs": [],
   "source": [
    "def scrape_resort(url):\n",
    "    \n",
    "    headers = {'User-Agent': 'Mozilla/5.0 (Macintosh; Intel Mac OS X 10_10_1) AppleWebKit/537.36 (KHTML, like Gecko) Chrome/39.0.2171.95 Safari/537.36'}\n",
    "    response = requests.get(url, headers=headers)\n",
    "    search_page = response.text\n",
    "    soup = BeautifulSoup(search_page,\"html5lib\")\n",
    "\n",
    "    slop_stats = soup.find(class_='slope-picture')\n",
    "    info_list = soup.find(class_='information-list')\n",
    "    info_list = info_list.find_all('li')\n",
    "    location = soup.find(class_='seo-line')\n",
    "    info_list = soup.find_all(class_=\"information-list\")[1]\n",
    "\n",
    "    dic = {}\n",
    "    \n",
    "    dic['url'] = url\n",
    "\n",
    "    # slope stats\n",
    "    dic['top'] = slop_stats.find(class_='top-lift').text.replace('m','')\n",
    "    dic['vertical_drop'] = slop_stats.find(class_='vertical-drop').text.replace('m','')\n",
    "    dic['bottom'] = slop_stats.find(class_='bottom-lift').text.replace('m','')\n",
    "\n",
    "    # info list\n",
    "    dic['acres_of ski'] = info_list[0].text.replace('Acres of ski:','')\n",
    "    dic['pistes'] = info_list[1].text.replace('Pistes:','')\n",
    "    dic['snowmaking'] = info_list[2].text.replace('Snowmaking:','').replace(\"%\",'')\n",
    "    dic['halfpipes'] = info_list[3].text.replace('Halfpipes:','')\n",
    "    dic['terrain_parks'] = info_list[4].text.replace('Terrain Parks:','')\n",
    "\n",
    "    # location\n",
    "    dic['country'] = location.find_all('a', href=True)[1].text.split(\" - \")[0]\n",
    "    if \" - \" in location.find_all('a', href=True)[1].text:\n",
    "        dic['state_region'] = location.find_all('a', href=True)[1].text.split(\" - \")[1]\n",
    "    \n",
    "    # resort website\n",
    "    if \"href\" in str(info_list):\n",
    "        resort_site = info_list.find('a', href=True).text\n",
    "        dic['resort_website'] = info_list.find('a', href=True).text\n",
    "    \n",
    "    dic['resort_name'] = location.find(itemprop=\"name\").text\n",
    "    return(dic)"
   ]
  },
  {
   "cell_type": "code",
   "execution_count": 1,
   "metadata": {
    "scrolled": false
   },
   "outputs": [],
   "source": [
    "resorts = []\n",
    "for url in url_list:\n",
    "    res_info = scrape_resort(url)\n",
    "    resorts.append(res_info)\n",
    "    sleep(0.5)"
   ]
  },
  {
   "cell_type": "code",
   "execution_count": 49,
   "metadata": {},
   "outputs": [],
   "source": [
    "resorts = pd.DataFrame.from_dict(resorts)"
   ]
  },
  {
   "cell_type": "code",
   "execution_count": 50,
   "metadata": {},
   "outputs": [],
   "source": [
    "resorts = resorts[['url','resort_name','country','state_region','top','bottom','vertical_drop',\n",
    "                   'acres_of ski','pistes','snowmaking','halfpipes','terrain_parks']]"
   ]
  },
  {
   "cell_type": "code",
   "execution_count": 51,
   "metadata": {},
   "outputs": [
    {
     "data": {
      "text/html": [
       "<div>\n",
       "<style scoped>\n",
       "    .dataframe tbody tr th:only-of-type {\n",
       "        vertical-align: middle;\n",
       "    }\n",
       "\n",
       "    .dataframe tbody tr th {\n",
       "        vertical-align: top;\n",
       "    }\n",
       "\n",
       "    .dataframe thead th {\n",
       "        text-align: right;\n",
       "    }\n",
       "</style>\n",
       "<table border=\"1\" class=\"dataframe\">\n",
       "  <thead>\n",
       "    <tr style=\"text-align: right;\">\n",
       "      <th></th>\n",
       "      <th>resort_name</th>\n",
       "      <th>country</th>\n",
       "      <th>state_region</th>\n",
       "      <th>top</th>\n",
       "      <th>bottom</th>\n",
       "      <th>vertical_drop</th>\n",
       "      <th>acres_of ski</th>\n",
       "      <th>pistes</th>\n",
       "      <th>snowmaking</th>\n",
       "      <th>halfpipes</th>\n",
       "      <th>terrain_parks</th>\n",
       "    </tr>\n",
       "  </thead>\n",
       "  <tbody>\n",
       "    <tr>\n",
       "      <th>0</th>\n",
       "      <td>Afriski Mountain Resort</td>\n",
       "      <td>Lesotho</td>\n",
       "      <td>NaN</td>\n",
       "      <td>3222</td>\n",
       "      <td>2917</td>\n",
       "      <td>305</td>\n",
       "      <td>10</td>\n",
       "      <td>2</td>\n",
       "      <td>-</td>\n",
       "      <td>-</td>\n",
       "      <td>1</td>\n",
       "    </tr>\n",
       "    <tr>\n",
       "      <th>1</th>\n",
       "      <td>Afton Alps</td>\n",
       "      <td>USA</td>\n",
       "      <td>Minnesota</td>\n",
       "      <td>107</td>\n",
       "      <td>0</td>\n",
       "      <td>107</td>\n",
       "      <td>-</td>\n",
       "      <td>-</td>\n",
       "      <td>-</td>\n",
       "      <td>-</td>\n",
       "      <td>-</td>\n",
       "    </tr>\n",
       "    <tr>\n",
       "      <th>2</th>\n",
       "      <td>Akakura Onsen</td>\n",
       "      <td>Japan</td>\n",
       "      <td>Niigata</td>\n",
       "      <td>1000</td>\n",
       "      <td>700</td>\n",
       "      <td>300</td>\n",
       "      <td>-</td>\n",
       "      <td>15</td>\n",
       "      <td>-</td>\n",
       "      <td>-</td>\n",
       "      <td>-</td>\n",
       "    </tr>\n",
       "    <tr>\n",
       "      <th>3</th>\n",
       "      <td>Alpbachtal</td>\n",
       "      <td>Austria</td>\n",
       "      <td>NaN</td>\n",
       "      <td>2025</td>\n",
       "      <td>813</td>\n",
       "      <td>1212</td>\n",
       "      <td>-</td>\n",
       "      <td>109</td>\n",
       "      <td>78</td>\n",
       "      <td>1</td>\n",
       "      <td>1</td>\n",
       "    </tr>\n",
       "    <tr>\n",
       "      <th>4</th>\n",
       "      <td>Alpe d'Huez</td>\n",
       "      <td>France</td>\n",
       "      <td>NaN</td>\n",
       "      <td>3350</td>\n",
       "      <td>1100</td>\n",
       "      <td>2250</td>\n",
       "      <td>583</td>\n",
       "      <td>116</td>\n",
       "      <td>10</td>\n",
       "      <td>-</td>\n",
       "      <td>2</td>\n",
       "    </tr>\n",
       "  </tbody>\n",
       "</table>\n",
       "</div>"
      ],
      "text/plain": [
       "               resort_name  country state_region   top bottom vertical_drop  \\\n",
       "0  Afriski Mountain Resort  Lesotho          NaN  3222   2917           305   \n",
       "1               Afton Alps      USA    Minnesota   107      0           107   \n",
       "2            Akakura Onsen    Japan      Niigata  1000    700           300   \n",
       "3               Alpbachtal  Austria          NaN  2025    813          1212   \n",
       "4              Alpe d'Huez   France          NaN  3350   1100          2250   \n",
       "\n",
       "  acres_of ski pistes snowmaking halfpipes terrain_parks  \n",
       "0          10      2           -        -             1   \n",
       "1           -      -           -        -             -   \n",
       "2           -     15           -        -             -   \n",
       "3           -    109          78        1             1   \n",
       "4         583    116          10        -             2   "
      ]
     },
     "execution_count": 51,
     "metadata": {},
     "output_type": "execute_result"
    }
   ],
   "source": [
    "resorts.head()"
   ]
  },
  {
   "cell_type": "code",
   "execution_count": 52,
   "metadata": {},
   "outputs": [],
   "source": [
    "# resorts.to_csv('snowforecast_resort_data.csv')"
   ]
  }
 ],
 "metadata": {
  "kernelspec": {
   "display_name": "Python 3",
   "language": "python",
   "name": "python3"
  },
  "language_info": {
   "codemirror_mode": {
    "name": "ipython",
    "version": 3
   },
   "file_extension": ".py",
   "mimetype": "text/x-python",
   "name": "python",
   "nbconvert_exporter": "python",
   "pygments_lexer": "ipython3",
   "version": "3.6.4"
  }
 },
 "nbformat": 4,
 "nbformat_minor": 2
}
