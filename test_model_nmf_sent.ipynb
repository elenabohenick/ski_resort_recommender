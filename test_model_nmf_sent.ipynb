{
 "cells": [
  {
   "cell_type": "code",
   "execution_count": 1,
   "metadata": {},
   "outputs": [
    {
     "name": "stdout",
     "output_type": "stream",
     "text": [
      "[nltk_data] Downloading package stopwords to /home/ubuntu/nltk_data...\n",
      "[nltk_data]   Package stopwords is already up-to-date!\n"
     ]
    },
    {
     "data": {
      "text/plain": [
       "True"
      ]
     },
     "execution_count": 1,
     "metadata": {},
     "output_type": "execute_result"
    }
   ],
   "source": [
    "import nltk\n",
    "import pickle\n",
    "import pandas as pd\n",
    "import numpy as np\n",
    "from sklearn.feature_extraction.text import TfidfVectorizer\n",
    "from  sklearn.decomposition import NMF\n",
    "from sklearn.manifold import TSNE\n",
    "import matplotlib.pyplot as plt\n",
    "import seaborn as sns\n",
    "import matplotlib.patheffects as PathEffects\n",
    "from nltk.corpus import stopwords\n",
    "from nltk.tokenize import sent_tokenize\n",
    "from stop_words import get_stop_words\n",
    "from nltk.tokenize import word_tokenize\n",
    "from nltk.stem import WordNetLemmatizer\n",
    "from textblob import TextBlob\n",
    "from sklearn.preprocessing import normalize\n",
    "nltk.download('stopwords')"
   ]
  },
  {
   "cell_type": "code",
   "execution_count": 2,
   "metadata": {},
   "outputs": [],
   "source": [
    "with open('data/filtered/tripadvisor_filtered_sent_lemm.pkl' , 'rb') as picklefile: \n",
    "    df = pickle.load(picklefile)"
   ]
  },
  {
   "cell_type": "code",
   "execution_count": 3,
   "metadata": {},
   "outputs": [],
   "source": [
    "# create a function to print top words for each topic\n",
    "def print_top_words(model, feature_names, n_top_words):\n",
    "    for topic_idx, topic in enumerate(model.components_):\n",
    "        message = \"Topic #%d: \" % topic_idx\n",
    "        message += \", \".join([feature_names[i]\n",
    "                             for i in topic.argsort()[:-n_top_words - 1:-1]])\n",
    "        print(message)\n",
    "    print()"
   ]
  },
  {
   "cell_type": "code",
   "execution_count": 4,
   "metadata": {},
   "outputs": [],
   "source": [
    "nltk_stpwd = stopwords.words('english')\n",
    "stop_words_stpwd = get_stop_words('en')\n",
    "merged_stopwords = list(set(nltk_stpwd + stop_words_stpwd))\n",
    "merged_stopwords = merged_stopwords + ['nice','great','year','time','good','friendly', 'deer', 'valley', 'resort',\n",
    "                                      'fun','day','ticket', 'park', 'city', 'place', 'ski', 'skiing','skier','slope',\n",
    "                                      'zermatt','matterhorn','cable', 'creek', 'beaver','best','one','run','aspen',\n",
    "                                      'take']\n",
    "\n",
    "# test add run\n",
    "# test add stay - beginner and restaurant topics got bucketed into one"
   ]
  },
  {
   "cell_type": "code",
   "execution_count": 5,
   "metadata": {},
   "outputs": [],
   "source": [
    "# TFIDF\n",
    "vectorizer = TfidfVectorizer(\n",
    "                         stop_words=merged_stopwords, \n",
    "                         token_pattern=\"\\\\b[a-z][a-z]+\\\\b\", \n",
    "                         min_df=35,\n",
    "                         max_df=0.7\n",
    "                        )\n",
    "counts = vectorizer.fit_transform(df['lem_sent_text'])\n",
    "feature_names = vectorizer.get_feature_names()\n",
    "\n",
    "# NMF\n",
    "components_count = 20\n",
    "\n",
    "model = NMF(n_components=components_count, init='random', max_iter=100, random_state=101)\n",
    "topic_distr = model.fit_transform(counts)"
   ]
  },
  {
   "cell_type": "code",
   "execution_count": 6,
   "metadata": {},
   "outputs": [
    {
     "name": "stdout",
     "output_type": "stream",
     "text": [
      "Topic #0: go, want, wait, ca, way, week, weekend, never, every, tube\n",
      "Topic #1: back, come, definitely, next, wait, ca, sure, return, soon, never\n",
      "Topic #2: kid, first, lesson, school, instructor, experience, learn, adult, old, snowboard\n",
      "Topic #3: recommend, highly, definitely, visit, anyone, return, trip, stay, overall, summer\n",
      "Topic #4: mountain, top, ride, big, coaster, trail, gondola, small, bike, side\n",
      "Topic #5: snow, condition, make, powder, fresh, even, season, weather, excellent, week\n",
      "Topic #6: view, beautiful, top, amazing, spectacular, ride, amaze, fantastic, breathtaking, lake\n",
      "Topic #7: love, absolutely, every, winter, come, visit, return, old, son, always\n",
      "Topic #8: lift, line, long, wait, chair, short, minute, slow, ride, open\n",
      "Topic #9: staff, helpful, super, always, excellent, service, everyone, instructor, rental, extremely\n",
      "Topic #10: family, trip, vacation, perfect, whole, friend, wonderful, child, holiday, weekend\n",
      "Topic #11: really, enjoy, like, experience, people, everyone, visit, long, overall, need\n",
      "Topic #12: area, small, beautiful, large, big, visit, many, base, huge, also\n",
      "Topic #13: lot, people, parking, terrain, variety, trail, restaurant, level, activity, different\n",
      "Topic #14: get, easy, hour, early, around, crowd, way, minute, busy, gondola\n",
      "Topic #15: well, worth, groom, maintain, trail, visit, trip, piste, keep, organize\n",
      "Topic #16: much, stay, like, make, people, pretty, see, night, hotel, village\n",
      "Topic #17: awesome, experience, overall, wonderful, trip, terrain, powder, instructor, ever, level\n",
      "Topic #18: food, restaurant, price, lodge, expensive, service, excellent, bar, also, drink\n",
      "Topic #19: beginner, intermediate, blue, trail, level, green, black, expert, terrain, advanced\n",
      "\n"
     ]
    }
   ],
   "source": [
    "print_top_words(model, feature_names, 10)\n",
    "\n",
    "# topics\n",
    "# powder: 5\n",
    "# family: 10\n",
    "# beginner: 19\n",
    "# lessons for kids: 2\n",
    "# lessons: 12\n",
    "# food/restaurants: 8\n",
    "# crowded: 8"
   ]
  },
  {
   "cell_type": "code",
   "execution_count": 7,
   "metadata": {},
   "outputs": [
    {
     "data": {
      "image/png": "[encoded data removed]",
      "text/plain": [
       "<Figure size 1008x576 with 1 Axes>"
      ]
     },
     "metadata": {},
     "output_type": "display_data"
    }
   ],
   "source": [
    "resort_top = np.argmax(topic_distr, axis=1)\n",
    "np.bincount(resort_top)\n",
    "\n",
    "plt.figure(figsize=(14,8))\n",
    "plt.bar(np.arange(0,components_count), height = np.bincount(resort_top))\n",
    "plt.xlabel('Topic_id')\n",
    "plt.ylabel('Number of Reviews')\n",
    "plt.xticks(np.arange(0,components_count))\n",
    "plt.title('Number of Reviews per Topic');"
   ]
  },
  {
   "cell_type": "code",
   "execution_count": 8,
   "metadata": {},
   "outputs": [
    {
     "data": {
      "text/html": [
       "<div>\n",
       "<style scoped>\n",
       "    .dataframe tbody tr th:only-of-type {\n",
       "        vertical-align: middle;\n",
       "    }\n",
       "\n",
       "    .dataframe tbody tr th {\n",
       "        vertical-align: top;\n",
       "    }\n",
       "\n",
       "    .dataframe thead th {\n",
       "        text-align: right;\n",
       "    }\n",
       "</style>\n",
       "<table border=\"1\" class=\"dataframe\">\n",
       "  <thead>\n",
       "    <tr style=\"text-align: right;\">\n",
       "      <th></th>\n",
       "      <th>rev_id</th>\n",
       "      <th>sentence</th>\n",
       "      <th>lem_sent_token</th>\n",
       "      <th>lem_sent_text</th>\n",
       "    </tr>\n",
       "  </thead>\n",
       "  <tbody>\n",
       "    <tr>\n",
       "      <th>0</th>\n",
       "      <td>0</td>\n",
       "      <td>Hiking, Food, Fun Love the hiking trails to th...</td>\n",
       "      <td>[hiking, ,, food, ,, fun, love, the, hiking, t...</td>\n",
       "      <td>hiking , food , fun love the hiking trail to t...</td>\n",
       "    </tr>\n",
       "    <tr>\n",
       "      <th>1</th>\n",
       "      <td>0</td>\n",
       "      <td>Amazing panoramic views are perfect for photos...</td>\n",
       "      <td>[amaze, panoramic, view, be, perfect, for, pho...</td>\n",
       "      <td>amaze panoramic view be perfect for photo to c...</td>\n",
       "    </tr>\n",
       "    <tr>\n",
       "      <th>2</th>\n",
       "      <td>0</td>\n",
       "      <td>I fell in love with the cows!!</td>\n",
       "      <td>[i, fell, in, love, with, the, cow, !, !]</td>\n",
       "      <td>i fell in love with the cow ! !</td>\n",
       "    </tr>\n",
       "    <tr>\n",
       "      <th>3</th>\n",
       "      <td>0</td>\n",
       "      <td>Particularly one that followed us up the hill.</td>\n",
       "      <td>[particularly, one, that, follow, u, up, the, ...</td>\n",
       "      <td>particularly one that follow u up the hill .</td>\n",
       "    </tr>\n",
       "    <tr>\n",
       "      <th>4</th>\n",
       "      <td>0</td>\n",
       "      <td>One of my favorite moments was taking selfies ...</td>\n",
       "      <td>[one, of, my, favorite, moment, be, take, self...</td>\n",
       "      <td>one of my favorite moment be take selfies with...</td>\n",
       "    </tr>\n",
       "  </tbody>\n",
       "</table>\n",
       "</div>"
      ],
      "text/plain": [
       "   rev_id                                           sentence  \\\n",
       "0       0  Hiking, Food, Fun Love the hiking trails to th...   \n",
       "1       0  Amazing panoramic views are perfect for photos...   \n",
       "2       0                     I fell in love with the cows!!   \n",
       "3       0     Particularly one that followed us up the hill.   \n",
       "4       0  One of my favorite moments was taking selfies ...   \n",
       "\n",
       "                                      lem_sent_token  \\\n",
       "0  [hiking, ,, food, ,, fun, love, the, hiking, t...   \n",
       "1  [amaze, panoramic, view, be, perfect, for, pho...   \n",
       "2          [i, fell, in, love, with, the, cow, !, !]   \n",
       "3  [particularly, one, that, follow, u, up, the, ...   \n",
       "4  [one, of, my, favorite, moment, be, take, self...   \n",
       "\n",
       "                                       lem_sent_text  \n",
       "0  hiking , food , fun love the hiking trail to t...  \n",
       "1  amaze panoramic view be perfect for photo to c...  \n",
       "2                    i fell in love with the cow ! !  \n",
       "3       particularly one that follow u up the hill .  \n",
       "4  one of my favorite moment be take selfies with...  "
      ]
     },
     "execution_count": 8,
     "metadata": {},
     "output_type": "execute_result"
    }
   ],
   "source": [
    "df.head()"
   ]
  },
  {
   "cell_type": "code",
   "execution_count": 9,
   "metadata": {
    "scrolled": false
   },
   "outputs": [
    {
     "name": "stdout",
     "output_type": "stream",
     "text": [
      "Both the kids had a great time.\n",
      "------------------------------\n",
      "Great for kids.\n",
      "------------------------------\n",
      "Are you kidding me?\n",
      "------------------------------\n",
      "All 3 Kids had a great time.\n",
      "------------------------------\n",
      "Woodlot was good, but $25 for kids??\n",
      "------------------------------\n",
      "Great place to take kids.\n",
      "------------------------------\n",
      "Great if you have kids This is a fun place.\n",
      "------------------------------\n",
      "Great if you have kids This is a fun place.\n",
      "------------------------------\n",
      "great for kids!\n",
      "------------------------------\n",
      "good place for kids This was a great place for the kids to have a lesson.\n",
      "------------------------------\n"
     ]
    }
   ],
   "source": [
    "# print sentences associated with the topic\n",
    "\n",
    "# Topic #0: go, want, way, ca, week, like, every, wait, never, tube\n",
    "# Topic #1: experience, first, awesome, trip, visit, overall, wonderful, make, ever, amazing\n",
    "# Topic #2: lot, people, terrain, parking, variety, trail, level, restaurant, activity, blue\n",
    "# Topic #3: kid, enjoy, really, school, instructor, learn, lesson, adult, old, young\n",
    "# Topic #4: family, trip, vacation, perfect, whole, friend, child, holiday, wonderful, young\n",
    "# Topic #5: area, small, beautiful, large, visit, big, many, base, huge, also\n",
    "# Topic #6: beginner, recommend, intermediate, highly, blue, trail, green, level, black, expert\n",
    "# Topic #7: snow, condition, make, much, powder, fresh, even, season, weather, open\n",
    "# Topic #8: food, restaurant, price, lodge, expensive, bar, also, drink, service, reasonable\n",
    "# Topic #9: well, worth, groom, maintain, trail, visit, trip, piste, keep, organize\n",
    "# Topic #10: get, easy, early, around, hour, busy, crowd, way, much, need\n",
    "# Topic #11: mountain, top, big, coaster, trail, small, like, biking, side, bike\n",
    "# Topic #12: take, lesson, top, gondola, ride, hour, minute, way, bus, walk\n",
    "# Topic #13: excellent, stay, service, condition, hotel, night, week, lodge, school, village\n",
    "# Topic #14: line, long, wait, people, crowd, never, weekend, short, zip, minute\n",
    "# Topic #15: staff, helpful, super, always, everyone, rental, extremely, instructor, really, help\n",
    "# Topic #16: view, beautiful, top, amazing, spectacular, amaze, fantastic, breathtaking, enjoy, lake\n",
    "# Topic #17: lift, chair, slow, open, price, queue, high, fast, close, rental\n",
    "# Topic #18: love, absolutely, every, winter, come, visit, old, return, son, much\n",
    "# Topic #19: back, come, definitely, next, wait, ca, sure, return, soon, recommend\n",
    "\n",
    "for sent_i in np.argsort(topic_distr[:,2])[-10:]:\n",
    "    \n",
    "    print(df.iloc[sent_i,1])\n",
    "    print(\"-\"*30)"
   ]
  },
  {
   "cell_type": "code",
   "execution_count": 10,
   "metadata": {},
   "outputs": [],
   "source": [
    "# normalize the weights\n",
    "topics = normalize(topic_distr, norm='l1', axis=1, copy=True, return_norm=False)\n",
    "\n",
    "topics_df  = pd.DataFrame(data=topics)"
   ]
  },
  {
   "cell_type": "code",
   "execution_count": 11,
   "metadata": {},
   "outputs": [],
   "source": [
    "df_topics = pd.merge(df, topics_df, left_index=True, right_index=True)"
   ]
  },
  {
   "cell_type": "code",
   "execution_count": 12,
   "metadata": {},
   "outputs": [
    {
     "data": {
      "text/html": [
       "<div>\n",
       "<style scoped>\n",
       "    .dataframe tbody tr th:only-of-type {\n",
       "        vertical-align: middle;\n",
       "    }\n",
       "\n",
       "    .dataframe tbody tr th {\n",
       "        vertical-align: top;\n",
       "    }\n",
       "\n",
       "    .dataframe thead th {\n",
       "        text-align: right;\n",
       "    }\n",
       "</style>\n",
       "<table border=\"1\" class=\"dataframe\">\n",
       "  <thead>\n",
       "    <tr style=\"text-align: right;\">\n",
       "      <th></th>\n",
       "      <th>rev_id</th>\n",
       "      <th>sentence</th>\n",
       "      <th>lem_sent_token</th>\n",
       "      <th>lem_sent_text</th>\n",
       "      <th>0</th>\n",
       "      <th>1</th>\n",
       "      <th>2</th>\n",
       "      <th>3</th>\n",
       "      <th>4</th>\n",
       "      <th>5</th>\n",
       "      <th>...</th>\n",
       "      <th>10</th>\n",
       "      <th>11</th>\n",
       "      <th>12</th>\n",
       "      <th>13</th>\n",
       "      <th>14</th>\n",
       "      <th>15</th>\n",
       "      <th>16</th>\n",
       "      <th>17</th>\n",
       "      <th>18</th>\n",
       "      <th>19</th>\n",
       "    </tr>\n",
       "  </thead>\n",
       "  <tbody>\n",
       "    <tr>\n",
       "      <th>0</th>\n",
       "      <td>0</td>\n",
       "      <td>Hiking, Food, Fun Love the hiking trails to th...</td>\n",
       "      <td>[hiking, ,, food, ,, fun, love, the, hiking, t...</td>\n",
       "      <td>hiking , food , fun love the hiking trail to t...</td>\n",
       "      <td>0.000000</td>\n",
       "      <td>0.000000</td>\n",
       "      <td>0.000000</td>\n",
       "      <td>0.000000</td>\n",
       "      <td>0.017655</td>\n",
       "      <td>0.002429</td>\n",
       "      <td>...</td>\n",
       "      <td>0.000000</td>\n",
       "      <td>0.000000</td>\n",
       "      <td>0.000000</td>\n",
       "      <td>0.009472</td>\n",
       "      <td>0.000000</td>\n",
       "      <td>0.042854</td>\n",
       "      <td>0.000000</td>\n",
       "      <td>0.001253</td>\n",
       "      <td>0.356053</td>\n",
       "      <td>0.066909</td>\n",
       "    </tr>\n",
       "    <tr>\n",
       "      <th>1</th>\n",
       "      <td>0</td>\n",
       "      <td>Amazing panoramic views are perfect for photos...</td>\n",
       "      <td>[amaze, panoramic, view, be, perfect, for, pho...</td>\n",
       "      <td>amaze panoramic view be perfect for photo to c...</td>\n",
       "      <td>0.000000</td>\n",
       "      <td>0.000000</td>\n",
       "      <td>0.014001</td>\n",
       "      <td>0.000000</td>\n",
       "      <td>0.000000</td>\n",
       "      <td>0.036762</td>\n",
       "      <td>...</td>\n",
       "      <td>0.042868</td>\n",
       "      <td>0.000000</td>\n",
       "      <td>0.000000</td>\n",
       "      <td>0.000000</td>\n",
       "      <td>0.000000</td>\n",
       "      <td>0.000000</td>\n",
       "      <td>0.000000</td>\n",
       "      <td>0.000000</td>\n",
       "      <td>0.000000</td>\n",
       "      <td>0.090392</td>\n",
       "    </tr>\n",
       "    <tr>\n",
       "      <th>2</th>\n",
       "      <td>0</td>\n",
       "      <td>I fell in love with the cows!!</td>\n",
       "      <td>[i, fell, in, love, with, the, cow, !, !]</td>\n",
       "      <td>i fell in love with the cow ! !</td>\n",
       "      <td>0.000000</td>\n",
       "      <td>0.000000</td>\n",
       "      <td>0.000000</td>\n",
       "      <td>0.000000</td>\n",
       "      <td>0.000000</td>\n",
       "      <td>0.001191</td>\n",
       "      <td>...</td>\n",
       "      <td>0.000000</td>\n",
       "      <td>0.000000</td>\n",
       "      <td>0.000000</td>\n",
       "      <td>0.000000</td>\n",
       "      <td>0.002447</td>\n",
       "      <td>0.000000</td>\n",
       "      <td>0.000000</td>\n",
       "      <td>0.000000</td>\n",
       "      <td>0.000000</td>\n",
       "      <td>0.000000</td>\n",
       "    </tr>\n",
       "    <tr>\n",
       "      <th>3</th>\n",
       "      <td>0</td>\n",
       "      <td>Particularly one that followed us up the hill.</td>\n",
       "      <td>[particularly, one, that, follow, u, up, the, ...</td>\n",
       "      <td>particularly one that follow u up the hill .</td>\n",
       "      <td>0.074463</td>\n",
       "      <td>0.004183</td>\n",
       "      <td>0.049262</td>\n",
       "      <td>0.000468</td>\n",
       "      <td>0.000000</td>\n",
       "      <td>0.010345</td>\n",
       "      <td>...</td>\n",
       "      <td>0.026221</td>\n",
       "      <td>0.017222</td>\n",
       "      <td>0.014944</td>\n",
       "      <td>0.040240</td>\n",
       "      <td>0.106054</td>\n",
       "      <td>0.024237</td>\n",
       "      <td>0.087311</td>\n",
       "      <td>0.042348</td>\n",
       "      <td>0.031760</td>\n",
       "      <td>0.339076</td>\n",
       "    </tr>\n",
       "    <tr>\n",
       "      <th>4</th>\n",
       "      <td>0</td>\n",
       "      <td>One of my favorite moments was taking selfies ...</td>\n",
       "      <td>[one, of, my, favorite, moment, be, take, self...</td>\n",
       "      <td>one of my favorite moment be take selfies with...</td>\n",
       "      <td>0.081168</td>\n",
       "      <td>0.018816</td>\n",
       "      <td>0.002654</td>\n",
       "      <td>0.004433</td>\n",
       "      <td>0.262880</td>\n",
       "      <td>0.029675</td>\n",
       "      <td>...</td>\n",
       "      <td>0.128335</td>\n",
       "      <td>0.031209</td>\n",
       "      <td>0.293535</td>\n",
       "      <td>0.025467</td>\n",
       "      <td>0.000121</td>\n",
       "      <td>0.000240</td>\n",
       "      <td>0.024346</td>\n",
       "      <td>0.021643</td>\n",
       "      <td>0.000000</td>\n",
       "      <td>0.008281</td>\n",
       "    </tr>\n",
       "  </tbody>\n",
       "</table>\n",
       "<p>5 rows × 24 columns</p>\n",
       "</div>"
      ],
      "text/plain": [
       "   rev_id                                           sentence  \\\n",
       "0       0  Hiking, Food, Fun Love the hiking trails to th...   \n",
       "1       0  Amazing panoramic views are perfect for photos...   \n",
       "2       0                     I fell in love with the cows!!   \n",
       "3       0     Particularly one that followed us up the hill.   \n",
       "4       0  One of my favorite moments was taking selfies ...   \n",
       "\n",
       "                                      lem_sent_token  \\\n",
       "0  [hiking, ,, food, ,, fun, love, the, hiking, t...   \n",
       "1  [amaze, panoramic, view, be, perfect, for, pho...   \n",
       "2          [i, fell, in, love, with, the, cow, !, !]   \n",
       "3  [particularly, one, that, follow, u, up, the, ...   \n",
       "4  [one, of, my, favorite, moment, be, take, self...   \n",
       "\n",
       "                                       lem_sent_text         0         1  \\\n",
       "0  hiking , food , fun love the hiking trail to t...  0.000000  0.000000   \n",
       "1  amaze panoramic view be perfect for photo to c...  0.000000  0.000000   \n",
       "2                    i fell in love with the cow ! !  0.000000  0.000000   \n",
       "3       particularly one that follow u up the hill .  0.074463  0.004183   \n",
       "4  one of my favorite moment be take selfies with...  0.081168  0.018816   \n",
       "\n",
       "          2         3         4         5    ...           10        11  \\\n",
       "0  0.000000  0.000000  0.017655  0.002429    ...     0.000000  0.000000   \n",
       "1  0.014001  0.000000  0.000000  0.036762    ...     0.042868  0.000000   \n",
       "2  0.000000  0.000000  0.000000  0.001191    ...     0.000000  0.000000   \n",
       "3  0.049262  0.000468  0.000000  0.010345    ...     0.026221  0.017222   \n",
       "4  0.002654  0.004433  0.262880  0.029675    ...     0.128335  0.031209   \n",
       "\n",
       "         12        13        14        15        16        17        18  \\\n",
       "0  0.000000  0.009472  0.000000  0.042854  0.000000  0.001253  0.356053   \n",
       "1  0.000000  0.000000  0.000000  0.000000  0.000000  0.000000  0.000000   \n",
       "2  0.000000  0.000000  0.002447  0.000000  0.000000  0.000000  0.000000   \n",
       "3  0.014944  0.040240  0.106054  0.024237  0.087311  0.042348  0.031760   \n",
       "4  0.293535  0.025467  0.000121  0.000240  0.024346  0.021643  0.000000   \n",
       "\n",
       "         19  \n",
       "0  0.066909  \n",
       "1  0.090392  \n",
       "2  0.000000  \n",
       "3  0.339076  \n",
       "4  0.008281  \n",
       "\n",
       "[5 rows x 24 columns]"
      ]
     },
     "execution_count": 12,
     "metadata": {},
     "output_type": "execute_result"
    }
   ],
   "source": [
    "df_topics.head()"
   ]
  },
  {
   "cell_type": "code",
   "execution_count": 13,
   "metadata": {},
   "outputs": [],
   "source": [
    "df_topics['polarity'] = [TextBlob(sent).sentiment[0] for sent in df_topics['sentence']]"
   ]
  },
  {
   "cell_type": "code",
   "execution_count": 14,
   "metadata": {},
   "outputs": [],
   "source": [
    "df_topics['subjectivity'] = [TextBlob(sent).sentiment[1] for sent in df_topics['sentence']]"
   ]
  },
  {
   "cell_type": "code",
   "execution_count": 15,
   "metadata": {},
   "outputs": [],
   "source": [
    "df_topics['sent_score'] = df_topics['polarity'] * df_topics['subjectivity']"
   ]
  },
  {
   "cell_type": "code",
   "execution_count": 16,
   "metadata": {},
   "outputs": [],
   "source": [
    "# pickle lemmatized sentence file\n",
    "with open('data/filtered/tripadvisor_filtered_sent_sentiment_score.pkl', 'wb') as picklefile:\n",
    "    pickle.dump(df_topics, picklefile)"
   ]
  },
  {
   "cell_type": "markdown",
   "metadata": {},
   "source": [
    "# TSNE"
   ]
  },
  {
   "cell_type": "code",
   "execution_count": null,
   "metadata": {},
   "outputs": [],
   "source": [
    "topic_distr_10k = topic_distr[-10000:,:]"
   ]
  },
  {
   "cell_type": "code",
   "execution_count": null,
   "metadata": {},
   "outputs": [],
   "source": [
    "doc_plot = TSNE(verbose=1, metric=\"cosine\").fit_transform(topic_distr_10k)"
   ]
  },
  {
   "cell_type": "code",
   "execution_count": null,
   "metadata": {},
   "outputs": [],
   "source": [
    "rev_max_top = np.argmax(topic_distr_10k, axis=1)"
   ]
  },
  {
   "cell_type": "code",
   "execution_count": null,
   "metadata": {},
   "outputs": [],
   "source": [
    "topics = list(range(len(model.components_)))"
   ]
  },
  {
   "cell_type": "code",
   "execution_count": null,
   "metadata": {},
   "outputs": [],
   "source": [
    "def scatter(x, colors):\n",
    "    # We choose a color palette with seaborn.\n",
    "    palette = np.array(sns.color_palette(\"hls\", components_count))\n",
    "\n",
    "    # We create a scatter plot.\n",
    "    f = plt.figure(figsize=(16, 12))\n",
    "    ax = plt.subplot(aspect='equal')\n",
    "    sc = ax.scatter(x[:,0], x[:,1], lw=0, s=40,\n",
    "                    c=palette[colors.astype(np.int)])\n",
    "    plt.xlim(-25, 25)\n",
    "    plt.ylim(-25, 25)\n",
    "    ax.axis('off')\n",
    "    ax.axis('tight')\n",
    "\n",
    "    # We add the labels for each digit.\n",
    "    txts = []\n",
    "    for i in range(components_count):\n",
    "        # Position of each label.\n",
    "        xtext, ytext = np.median(x[colors == i, :], axis=0)\n",
    "        txt = ax.text(xtext, ytext, str(i), fontsize=24)\n",
    "        txt.set_path_effects([\n",
    "            PathEffects.Stroke(linewidth=5, foreground=\"w\"),\n",
    "            PathEffects.Normal()])\n",
    "        txts.append(txt)\n",
    "    \n",
    "    plt.title(f'TSNE Plot with {components_count} topics', size=18)\n",
    "\n",
    "    return f, ax, sc, txts"
   ]
  },
  {
   "cell_type": "code",
   "execution_count": null,
   "metadata": {},
   "outputs": [],
   "source": [
    "scatter(doc_plot,rev_max_top);"
   ]
  },
  {
   "cell_type": "code",
   "execution_count": null,
   "metadata": {},
   "outputs": [],
   "source": [
    "# topics\n",
    "# powder: 4\n",
    "# family: 9\n",
    "# beginner: 3\n",
    "# lessons: 2\n",
    "# hotels/restaurants: 7\n",
    "# crowded: 8"
   ]
  },
  {
   "cell_type": "code",
   "execution_count": null,
   "metadata": {},
   "outputs": [],
   "source": [
    "#0: noise\n",
    "#1: summer activities\n",
    "#2: lessons\n",
    "#3: beginner\n",
    "#4: powder\n",
    "#5: hotels/staff\n",
    "#6: summer activities 2\n",
    "#7: resort village/restaurants\n",
    "#8: crowded\n",
    "#9: family"
   ]
  },
  {
   "cell_type": "code",
   "execution_count": null,
   "metadata": {},
   "outputs": [],
   "source": [
    "df.head()"
   ]
  }
 ],
 "metadata": {
  "kernelspec": {
   "display_name": "Python 3",
   "language": "python",
   "name": "python3"
  },
  "language_info": {
   "codemirror_mode": {
    "name": "ipython",
    "version": 3
   },
   "file_extension": ".py",
   "mimetype": "text/x-python",
   "name": "python",
   "nbconvert_exporter": "python",
   "pygments_lexer": "ipython3",
   "version": "3.6.4"
  }
 },
 "nbformat": 4,
 "nbformat_minor": 2
}
